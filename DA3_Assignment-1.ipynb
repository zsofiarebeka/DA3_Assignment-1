{
 "cells": [
  {
   "cell_type": "markdown",
   "id": "9ead6558-3ceb-4e4b-9bf4-eaa215b654bf",
   "metadata": {},
   "source": [
    "# <center>Data Analysis 3 - Assignment 1<center>\n",
    "    \n",
    "<center>Created by Zsófia Rebeka Katona</center>\n"
   ]
  },
  {
   "cell_type": "markdown",
   "id": "b68760bb-dc83-4de8-aabe-acf51c0db3bf",
   "metadata": {},
   "source": [
    "Build four predictive models using linear regression for earnings per hour.\n",
    "1. Models: the target variable is earnings per hour, all others would be predictors"
   ]
  },
  {
   "cell_type": "code",
   "execution_count": 1,
   "id": "c6ec1bcc-fc0f-4120-b114-ec14b1960dd4",
   "metadata": {
    "tags": []
   },
   "outputs": [],
   "source": [
    "# Importing the required libraries\n",
    "import warnings\n",
    "warnings.filterwarnings('ignore')\n",
    "\n",
    "import pandas as pd\n",
    "import seaborn as sns\n",
    "import matplotlib.pyplot as plt\n",
    "from mizani.formatters import percent_format\n",
    "import os\n",
    "from plotnine import *\n",
    "import numpy as np\n",
    "import sys\n",
    "import numpy as np\n",
    "import statsmodels.api as sm\n",
    "import statsmodels.formula.api as smf\n",
    "from stargazer.stargazer import Stargazer\n",
    "from statsmodels.tools.eval_measures import mse,rmse"
   ]
  },
  {
   "cell_type": "code",
   "execution_count": 2,
   "id": "29a5b138-a099-4941-b745-e12c014e81a0",
   "metadata": {
    "tags": []
   },
   "outputs": [
    {
     "ename": "ModuleNotFoundError",
     "evalue": "No module named 'py_helper_functions'",
     "output_type": "error",
     "traceback": [
      "\u001b[1;31m---------------------------------------------------------------------------\u001b[0m",
      "\u001b[1;31mModuleNotFoundError\u001b[0m                       Traceback (most recent call last)",
      "Cell \u001b[1;32mIn[2], line 2\u001b[0m\n\u001b[0;32m      1\u001b[0m \u001b[38;5;66;03m# Importing the prewritten helper functions\u001b[39;00m\n\u001b[1;32m----> 2\u001b[0m \u001b[38;5;28;01mfrom\u001b[39;00m \u001b[38;5;21;01mpy_helper_functions\u001b[39;00m \u001b[38;5;28;01mimport\u001b[39;00m \u001b[38;5;241m*\u001b[39m\n",
      "\u001b[1;31mModuleNotFoundError\u001b[0m: No module named 'py_helper_functions'"
     ]
    }
   ],
   "source": [
    "# Importing the prewritten helper functions\n",
    "from py_helper_functions import *"
   ]
  },
  {
   "cell_type": "code",
   "execution_count": null,
   "id": "523303f5-fceb-4148-9187-dbbf4ca0e49f",
   "metadata": {
    "tags": []
   },
   "outputs": [],
   "source": [
    "# Reading the data\n",
    "data = pd.read_csv(\"morg-2014-emp.csv\")\n",
    "\n",
    "# Checking if the data was correctly loaded\n",
    "data.head()"
   ]
  },
  {
   "cell_type": "code",
   "execution_count": null,
   "id": "750313a5-2736-4946-8bfb-5eb4380df01e",
   "metadata": {
    "tags": []
   },
   "outputs": [],
   "source": [
    "data.info()"
   ]
  },
  {
   "cell_type": "markdown",
   "id": "ecfc1267-df97-4a27-8ffa-c78b23bf9947",
   "metadata": {},
   "source": [
    "### Exploratory Data Analysis"
   ]
  },
  {
   "cell_type": "code",
   "execution_count": null,
   "id": "33e54754-911b-448f-b786-aa28f99e35fc",
   "metadata": {
    "tags": []
   },
   "outputs": [],
   "source": [
    "data.columns"
   ]
  },
  {
   "cell_type": "code",
   "execution_count": null,
   "id": "db15f5f9-1cb0-47ff-8ea7-b2d4480c296c",
   "metadata": {
    "tags": []
   },
   "outputs": [],
   "source": [
    "# Filtering for Human resource managers (0136) and Human resource workers (630)\n",
    "data = data[data['occ2012'].isin([136, 630])]\n",
    "data"
   ]
  },
  {
   "cell_type": "markdown",
   "id": "348b4d8c-06e7-452e-ab4d-0ab07b655a11",
   "metadata": {},
   "source": [
    "### Creating variables:\n",
    "- earnings per hour\n",
    "- log earnings per hour\n",
    "- female as a dummy variable\n",
    "- age\n",
    "- age squared\n",
    "- level of education"
   ]
  },
  {
   "cell_type": "code",
   "execution_count": null,
   "id": "095142c2-5c60-4915-b6cf-a35c35bfbacf",
   "metadata": {
    "tags": []
   },
   "outputs": [],
   "source": [
    "# Creating new variable: earnings per hour\n",
    "data[\"earnphour\"] = data[\"earnwke\"] / data[\"uhours\"]\n",
    "data[\"lnearnphour\"] = np.log(data[\"earnphour\"])\n",
    "data[\"female\"] = (data[\"sex\"] == 2)\n",
    "data[\"agesq\"] = np.power(data[\"age\"], 2)\n",
    "data[\"edu\"] = data[\"grade92\"]"
   ]
  },
  {
   "cell_type": "code",
   "execution_count": null,
   "id": "a9afb8fa-2b6c-4932-a611-830aa004cb36",
   "metadata": {
    "tags": []
   },
   "outputs": [],
   "source": [
    "# Grouping educational levels and creating dummies\n",
    "# 'hsedu' referring to high school education\n",
    "# \"higheredu\" referring to higher education, including Bachelors, Masters, PhD and Professional degrees\n",
    "data[\"hsedu\"] = (data[\"grade92\"] == 39).astype(int)\n",
    "data[\"higheredu\"] = (data[\"grade92\"].isin([40, 41 ,42 , 43, 44, 45, 46]).astype(int))"
   ]
  },
  {
   "cell_type": "code",
   "execution_count": null,
   "id": "49b7c43e-c00e-41d6-b290-40c2c90bd8b5",
   "metadata": {
    "tags": []
   },
   "outputs": [],
   "source": [
    "# Checking for the quality of the distribution and sufficient variation\n",
    "data.earnphour.hist(bins=100)"
   ]
  },
  {
   "cell_type": "code",
   "execution_count": null,
   "id": "3c9827e2-8877-43ec-8f91-42c58f33577a",
   "metadata": {
    "tags": []
   },
   "outputs": [],
   "source": [
    "# Checking the log earnings per hour distribution\n",
    "data.lnearnphour.hist(bins=100)"
   ]
  },
  {
   "cell_type": "code",
   "execution_count": null,
   "id": "a71f0a96-d06b-4d28-8ab5-948932d4d3fb",
   "metadata": {
    "tags": []
   },
   "outputs": [],
   "source": [
    "# Checking if we have 0 or missing values\n",
    "data.sort_values(by = 'earnphour')\n",
    "\n",
    "# There are no values = 0"
   ]
  },
  {
   "cell_type": "code",
   "execution_count": null,
   "id": "0f9a0eaf-6cdd-4048-a320-c470d0504ed4",
   "metadata": {
    "tags": []
   },
   "outputs": [],
   "source": [
    "# Checking for NaN in the 'earnwke' column\n",
    "data.loc[data[\"earnphour\"].isna()]\n",
    "\n",
    "# There are no missing values"
   ]
  },
  {
   "cell_type": "markdown",
   "id": "45cd209b-7579-4964-9224-eabdc93eabaf",
   "metadata": {},
   "source": [
    "#### Model 1. - Regression of earnings per hour on women"
   ]
  },
  {
   "cell_type": "code",
   "execution_count": null,
   "id": "0865a4f8-38cf-40ca-a270-1cdd52e11a1f",
   "metadata": {
    "tags": []
   },
   "outputs": [],
   "source": [
    "# Creating the regression and checking the summary of regression\n",
    "reg1 = smf.ols(formula=\"lnearnphour~female\", data=data).fit(cov_type=\"HC1\")\n",
    "reg1.summary()"
   ]
  },
  {
   "cell_type": "code",
   "execution_count": null,
   "id": "108ac77c-33cc-4d8d-b624-3d8025699084",
   "metadata": {},
   "outputs": [],
   "source": [
    "# Regression summary with HC' type of robust error in another form\n",
    "print(reg1.get_robustcov_results(cov_type='HC1').summary())"
   ]
  },
  {
   "cell_type": "code",
   "execution_count": null,
   "id": "b956abcf-1532-4c87-b59b-0f389af67058",
   "metadata": {
    "tags": []
   },
   "outputs": [],
   "source": [
    "# Checking the BIC of regression 1 (Model 1)\n",
    "reg1.bic"
   ]
  },
  {
   "cell_type": "markdown",
   "id": "eef54335-8da3-4629-acb0-eb2b0d3e1fa7",
   "metadata": {},
   "source": [
    "#### Model 2.: Expanding the model by adding the age variable"
   ]
  },
  {
   "cell_type": "code",
   "execution_count": null,
   "id": "fc9468dd-58d5-40b8-953f-8773e77d67b0",
   "metadata": {
    "tags": []
   },
   "outputs": [],
   "source": [
    "# Creating regression for Model 2\n",
    "reg2 = smf.ols(formula=\"lnearnphour~female + age\", data=data).fit(cov_type=\"HC1\")\n",
    "reg2.summary()"
   ]
  },
  {
   "cell_type": "code",
   "execution_count": null,
   "id": "5edc52a6-2fa0-4580-92cc-dbe6ff31616e",
   "metadata": {
    "tags": []
   },
   "outputs": [],
   "source": [
    "# Checking the BIC of regression 2 (Model 2)\n",
    "reg2.bic"
   ]
  },
  {
   "cell_type": "code",
   "execution_count": null,
   "id": "e5c8af31-69b4-46bc-9ca5-a2079dfcac98",
   "metadata": {
    "tags": []
   },
   "outputs": [],
   "source": [
    "stargazer = Stargazer([reg1, reg2])\n",
    "stargazer.covariate_order([\"female[T.True]\", \"Intercept\"])\n",
    "stargazer.rename_covariates({\"Intercept\": \"Constant\"})\n",
    "stargazer"
   ]
  },
  {
   "cell_type": "markdown",
   "id": "4ffc9ace-7cfb-4b74-af7e-db58b422d3ed",
   "metadata": {},
   "source": [
    "#### Model 3. Expanding the model by adding the age squared variable"
   ]
  },
  {
   "cell_type": "code",
   "execution_count": null,
   "id": "5d74d45b-3356-4217-ae34-6b76c6a4e713",
   "metadata": {
    "tags": []
   },
   "outputs": [],
   "source": [
    "# Creating the regression of Model 3\n",
    "reg3 = smf.ols(formula=\"lnearnphour~ female + age + agesq\", data=data).fit(cov_type=\"HC1\")\n",
    "reg3.summary()"
   ]
  },
  {
   "cell_type": "code",
   "execution_count": null,
   "id": "8017f2b9-e827-4757-b9db-869ce8f0ad3f",
   "metadata": {
    "tags": []
   },
   "outputs": [],
   "source": [
    "# Checking the BIC of regression 3 (Model 3)\n",
    "reg3.bic"
   ]
  },
  {
   "cell_type": "code",
   "execution_count": null,
   "id": "97b3ad21-9589-46bc-bfae-4736774c868c",
   "metadata": {
    "tags": []
   },
   "outputs": [],
   "source": [
    "# Creating the regression of Model 4\n",
    "reg4 = smf.ols(formula=\"lnearnphour~ female + age + agesq + higheredu\", data=data).fit(cov_type=\"HC1\")\n",
    "reg4.summary()"
   ]
  },
  {
   "cell_type": "code",
   "execution_count": null,
   "id": "570edcfe-b46a-4992-8bb0-bc853a9c9722",
   "metadata": {
    "tags": []
   },
   "outputs": [],
   "source": [
    "# Summarizing the regression results with HC1 robust standard error\n",
    "models = [reg1, reg2, reg3, reg4]\n",
    "robustcov_results=[]\n",
    "\n",
    "for i, model in enumerate(models):\n",
    "    result=model.get_robustcov_results(cov_type='HC1').summary()\n",
    "    robustcov_results.append(result)\n",
    "    print()\n",
    "    print(f'Regression: reg{i+1}')\n",
    "    print(result)"
   ]
  },
  {
   "cell_type": "code",
   "execution_count": null,
   "id": "83c429df-cfc8-492d-8cde-181c51460530",
   "metadata": {
    "tags": []
   },
   "outputs": [],
   "source": [
    "bic = [round(x.bic, 2) for x in [reg1,reg2,reg3,reg4]]\n",
    "sg = stargazer.Stargazer([reg1,reg2,reg3,reg4])\n",
    "sg.add_line('BIC', bic, location=stargazer.LineLocation.FOOTER_BOTTOM)\n",
    "sg"
   ]
  },
  {
   "cell_type": "markdown",
   "id": "ef36953d-4cef-47d2-98a6-c9aa014ff1f6",
   "metadata": {},
   "source": [
    "#### Model 2.: Linear Regression with cross-validation"
   ]
  },
  {
   "cell_type": "code",
   "execution_count": null,
   "id": "e4c236b7-67d8-4c6f-a8a7-c6e33bc43319",
   "metadata": {
    "tags": []
   },
   "outputs": [],
   "source": [
    "# Importing the package for cross-validation\n",
    "from sklearn.model_selection import KFold\n",
    "# Splitting the data into 4 categories, assuming that the data is randomly ordered\n",
    "k = KFold(n_splits=4, shuffle=False, random_state=None)"
   ]
  },
  {
   "cell_type": "code",
   "execution_count": null,
   "id": "a510c9ec-be6c-47d1-ba1c-758105d165c7",
   "metadata": {
    "tags": []
   },
   "outputs": [],
   "source": [
    "# Defining the cross-validation \n",
    "def cv_reg(formula, data, kfold, robustse=None):\n",
    "    regression_list = []\n",
    "    predicts_on_test = []\n",
    "    rsquared = []\n",
    "    rmse_list = []\n",
    "\n",
    "    # Calculating OLS for each fold\n",
    "\n",
    "    for train_index, test_index in k.split(data):\n",
    "        # print(\"TRAIN:\", train_index, \"TEST:\", test_index)\n",
    "        data_train, data_test = data.iloc[train_index, :], data.iloc[test_index, :]\n",
    "        if robustse is None:\n",
    "            model = smf.ols(formula, data=data_train).fit()\n",
    "        else:\n",
    "            model = smf.ols(formula, data=data_train).fit(cov_type=robustse)\n",
    "        regression_list += [model]\n",
    "        predicts_on_test += [model.predict(data_test)]\n",
    "        rsquared += [model.rsquared]\n",
    "        rmse_list += [rmse(data_train[formula.split(\"~\")[0]], model.predict())]\n",
    "\n",
    "    return {\n",
    "        \"regressions\": regression_list,\n",
    "        \"test_predict\": predicts_on_test,\n",
    "        \"r2\": rsquared,\n",
    "        \"rmse\": rmse_list,\n",
    "    }\n",
    "\n",
    "\n",
    "def summarize_cv(cvlist, stat=\"rmse\"):\n",
    "    result = pd.DataFrame(\n",
    "        {\"Model\" + str(x + 1): cvlist[x][stat] for x in range(len(cv_list))}\n",
    "    )\n",
    "    result[\"Resample\"] = [\"Fold\" + str(x + 1) for x in range(len(cvlist[0][\"rmse\"]))]\n",
    "    result = result.set_index(\"Resample\")\n",
    "    result = pd.concat([result, pd.DataFrame(result.mean(), columns=[\"Average\"]).T])\n",
    "    return result"
   ]
  },
  {
   "cell_type": "code",
   "execution_count": null,
   "id": "e208009a-ddd4-4e85-961f-faadbe866435",
   "metadata": {
    "tags": []
   },
   "outputs": [],
   "source": [
    "#reg1 = smf.ols(formula=\"lnearnphour~female\", data=data).fit(cov_type=\"HC1\")\n",
    "#reg2 = smf.ols(formula=\"lnearnphour~female + age\", data=data).fit(cov_type=\"HC1\")\n",
    "#reg3 = smf.ols(formula=\"lnearnphour~ female + age + agesq\", data=data).fit(cov_type=\"HC1\")\n",
    "#reg4 = smf.ols(formula=\"lnearnphour~ female + age + agesq + higheredu\", data=data).fit(cov_type=\"HC1\")\n",
    "\n",
    "cv1 = cv_reg(\"lnearnphour~female\", data, k, \"HC0\")\n",
    "cv2 = cv_reg(\"lnearnphour~female + age\", data, k, \"HC0\")\n",
    "cv3 = cv_reg(\"lnearnphour~ female + age + agesq\", data, k, \"HC0\")\n",
    "cv4 = cv_reg(\"lnearnphour~ female + age + agesq + higheredu\", data, k, \"HC0\")\n",
    "\n",
    "cv_list = [cv1, cv2, cv3, cv4]"
   ]
  },
  {
   "cell_type": "code",
   "execution_count": null,
   "id": "c4a5a08f-aa32-4231-b9dc-c05e455f6454",
   "metadata": {
    "tags": []
   },
   "outputs": [],
   "source": [
    "# Cross-validation summary table\n",
    "summarize_cv(cv_list)"
   ]
  },
  {
   "cell_type": "code",
   "execution_count": null,
   "id": "766194b4-a660-43dc-8b32-463866b8e0f3",
   "metadata": {
    "tags": []
   },
   "outputs": [],
   "source": [
    "# Checking the residual values for Model 1\n",
    "reg1.resid.describe()"
   ]
  },
  {
   "cell_type": "code",
   "execution_count": null,
   "id": "d6916888-f397-4418-ab65-6f82e9c09e33",
   "metadata": {
    "tags": []
   },
   "outputs": [],
   "source": [
    "# Getting the predictions using regression 1 and extracting its summary statistics\n",
    "p1=reg1.get_prediction(data).summary_frame()\n",
    "p1"
   ]
  },
  {
   "cell_type": "code",
   "execution_count": null,
   "id": "6adf1d16-c9d5-4986-a2e0-baf74192a61e",
   "metadata": {
    "tags": []
   },
   "outputs": [],
   "source": [
    "# Getting the basic metrics of fitted values\n",
    "(reg3.fittedvalues-data.lnearnphour).describe()"
   ]
  },
  {
   "cell_type": "code",
   "execution_count": null,
   "id": "d4713611-1ca5-4d74-bd7f-5414fcca4010",
   "metadata": {
    "tags": []
   },
   "outputs": [],
   "source": [
    "# Getting the predictions using regression 3 and extracting its summary statistics\n",
    "p2=reg3.get_prediction(data).summary_frame()\n",
    "p2"
   ]
  },
  {
   "cell_type": "code",
   "execution_count": null,
   "id": "1710dc73-b728-4950-9d16-e4167565cfac",
   "metadata": {
    "tags": []
   },
   "outputs": [],
   "source": [
    "# Getting the root squared mean error (RMSE) of Model 3\n",
    "rmse(reg3.fittedvalues,data.lnearnphour)"
   ]
  },
  {
   "cell_type": "code",
   "execution_count": null,
   "id": "bf7f1015-99c4-4fa8-8b14-7646fdbc6fd7",
   "metadata": {
    "tags": []
   },
   "outputs": [],
   "source": [
    "# Creating a DataFrame for the predicted values and the 95% prediciton intervals \n",
    "pd.DataFrame(\n",
    "    {\n",
    "        \" \": [\"Predicted\", \"PI_low(95%)\", \"PI_high(95%)\"],\n",
    "        \"Model1\": p1[[\"mean\", \"obs_ci_lower\", \"obs_ci_upper\"]].values.tolist()[0],\n",
    "        \"Model3\": p2[[\"mean\", \"obs_ci_lower\", \"obs_ci_upper\"]].values.tolist()[0],\n",
    "    }\n",
    ").set_index(\" \")"
   ]
  },
  {
   "cell_type": "code",
   "execution_count": null,
   "id": "42bf578b-806c-4bd7-87f9-2457a0ae66ea",
   "metadata": {
    "tags": []
   },
   "outputs": [],
   "source": [
    "# Summary of the predictions with 80% prediction intervals\n",
    "p1=reg1.get_prediction(data).summary_frame(alpha=0.2)\n",
    "p2=reg3.get_prediction(data).summary_frame(alpha=0.2)\n",
    "\n",
    "pd.DataFrame(\n",
    "    {\n",
    "        \" \": [\"Predicted\", \"PI_low(80%)\", \"PI_high(80%)\"],\n",
    "        \"Model1\": p1[[\"mean\", \"obs_ci_lower\", \"obs_ci_upper\"]].values.tolist()[0],\n",
    "        \"Model3\": p2[[\"mean\", \"obs_ci_lower\", \"obs_ci_upper\"]].values.tolist()[0],\n",
    "    }\n",
    ").set_index(\" \")"
   ]
  },
  {
   "cell_type": "code",
   "execution_count": null,
   "id": "389c1a17-f604-430b-8fa8-bbb9f274f58a",
   "metadata": {},
   "outputs": [],
   "source": []
  }
 ],
 "metadata": {
  "kernelspec": {
   "display_name": "Python 3 (ipykernel)",
   "language": "python",
   "name": "python3"
  },
  "language_info": {
   "codemirror_mode": {
    "name": "ipython",
    "version": 3
   },
   "file_extension": ".py",
   "mimetype": "text/x-python",
   "name": "python",
   "nbconvert_exporter": "python",
   "pygments_lexer": "ipython3",
   "version": "3.11.4"
  }
 },
 "nbformat": 4,
 "nbformat_minor": 5
}
