{
 "cells": [
  {
   "cell_type": "markdown",
   "id": "9ead6558-3ceb-4e4b-9bf4-eaa215b654bf",
   "metadata": {},
   "source": [
    "# <center>Data Analysis 3 - Assignment 1<center>\n",
    "    \n",
    "<center>Created by Zsófia Rebeka Katona</center>\n"
   ]
  },
  {
   "cell_type": "markdown",
   "id": "b68760bb-dc83-4de8-aabe-acf51c0db3bf",
   "metadata": {},
   "source": [
    "Build four predictive models using linear regression for earnings per hour.\n",
    "1. Models: the target variable is earnings per hour, all others would be predictors"
   ]
  },
  {
   "cell_type": "code",
   "execution_count": 1,
   "id": "c6ec1bcc-fc0f-4120-b114-ec14b1960dd4",
   "metadata": {
    "tags": []
   },
   "outputs": [],
   "source": [
    "# Importing the required libraries\n",
    "import warnings\n",
    "warnings.filterwarnings('ignore')\n",
    "\n",
    "import pandas as pd\n",
    "import seaborn as sns\n",
    "import matplotlib.pyplot as plt\n",
    "from mizani.formatters import percent_format\n",
    "import os\n",
    "from plotnine import *\n",
    "import numpy as np\n",
    "import sys\n",
    "import numpy as np\n",
    "import statsmodels.api as sm\n",
    "import statsmodels.formula.api as smf\n",
    "from stargazer import stargazer\n",
    "from statsmodels.tools.eval_measures import mse,rmse"
   ]
  },
  {
   "cell_type": "code",
   "execution_count": 2,
   "id": "29a5b138-a099-4941-b745-e12c014e81a0",
   "metadata": {
    "tags": []
   },
   "outputs": [],
   "source": [
    "# Importing the prewritten helper functions\n",
    "from py_helper_functions import *"
   ]
  },
  {
   "cell_type": "code",
   "execution_count": 3,
   "id": "523303f5-fceb-4148-9187-dbbf4ca0e49f",
   "metadata": {
    "tags": []
   },
   "outputs": [
    {
     "data": {
      "text/html": [
       "<div>\n",
       "<style scoped>\n",
       "    .dataframe tbody tr th:only-of-type {\n",
       "        vertical-align: middle;\n",
       "    }\n",
       "\n",
       "    .dataframe tbody tr th {\n",
       "        vertical-align: top;\n",
       "    }\n",
       "\n",
       "    .dataframe thead th {\n",
       "        text-align: right;\n",
       "    }\n",
       "</style>\n",
       "<table border=\"1\" class=\"dataframe\">\n",
       "  <thead>\n",
       "    <tr style=\"text-align: right;\">\n",
       "      <th></th>\n",
       "      <th>Unnamed: 0</th>\n",
       "      <th>hhid</th>\n",
       "      <th>intmonth</th>\n",
       "      <th>stfips</th>\n",
       "      <th>weight</th>\n",
       "      <th>earnwke</th>\n",
       "      <th>uhours</th>\n",
       "      <th>grade92</th>\n",
       "      <th>race</th>\n",
       "      <th>ethnic</th>\n",
       "      <th>...</th>\n",
       "      <th>ownchild</th>\n",
       "      <th>chldpres</th>\n",
       "      <th>prcitshp</th>\n",
       "      <th>state</th>\n",
       "      <th>ind02</th>\n",
       "      <th>occ2012</th>\n",
       "      <th>class</th>\n",
       "      <th>unionmme</th>\n",
       "      <th>unioncov</th>\n",
       "      <th>lfsr94</th>\n",
       "    </tr>\n",
       "  </thead>\n",
       "  <tbody>\n",
       "    <tr>\n",
       "      <th>0</th>\n",
       "      <td>3</td>\n",
       "      <td>2600310997690</td>\n",
       "      <td>January</td>\n",
       "      <td>AL</td>\n",
       "      <td>3151.6801</td>\n",
       "      <td>1692.00</td>\n",
       "      <td>40</td>\n",
       "      <td>43</td>\n",
       "      <td>1</td>\n",
       "      <td>NaN</td>\n",
       "      <td>...</td>\n",
       "      <td>0</td>\n",
       "      <td>0</td>\n",
       "      <td>Native, Born In US</td>\n",
       "      <td>63</td>\n",
       "      <td>Employment services (5613)</td>\n",
       "      <td>630</td>\n",
       "      <td>Private, For Profit</td>\n",
       "      <td>No</td>\n",
       "      <td>No</td>\n",
       "      <td>Employed-At Work</td>\n",
       "    </tr>\n",
       "    <tr>\n",
       "      <th>1</th>\n",
       "      <td>5</td>\n",
       "      <td>75680310997590</td>\n",
       "      <td>January</td>\n",
       "      <td>AL</td>\n",
       "      <td>3457.1138</td>\n",
       "      <td>450.00</td>\n",
       "      <td>40</td>\n",
       "      <td>41</td>\n",
       "      <td>2</td>\n",
       "      <td>NaN</td>\n",
       "      <td>...</td>\n",
       "      <td>2</td>\n",
       "      <td>6</td>\n",
       "      <td>Native, Born In US</td>\n",
       "      <td>63</td>\n",
       "      <td>Outpatient care centers (6214)</td>\n",
       "      <td>5400</td>\n",
       "      <td>Private, For Profit</td>\n",
       "      <td>No</td>\n",
       "      <td>No</td>\n",
       "      <td>Employed-Absent</td>\n",
       "    </tr>\n",
       "    <tr>\n",
       "      <th>2</th>\n",
       "      <td>6</td>\n",
       "      <td>75680310997590</td>\n",
       "      <td>January</td>\n",
       "      <td>AL</td>\n",
       "      <td>3936.9110</td>\n",
       "      <td>1090.00</td>\n",
       "      <td>60</td>\n",
       "      <td>41</td>\n",
       "      <td>2</td>\n",
       "      <td>NaN</td>\n",
       "      <td>...</td>\n",
       "      <td>2</td>\n",
       "      <td>6</td>\n",
       "      <td>Native, Born In US</td>\n",
       "      <td>63</td>\n",
       "      <td>Motor vehicles and motor vehicle equipment man...</td>\n",
       "      <td>8140</td>\n",
       "      <td>Private, For Profit</td>\n",
       "      <td>No</td>\n",
       "      <td>No</td>\n",
       "      <td>Employed-At Work</td>\n",
       "    </tr>\n",
       "    <tr>\n",
       "      <th>3</th>\n",
       "      <td>10</td>\n",
       "      <td>179140131100930</td>\n",
       "      <td>January</td>\n",
       "      <td>AL</td>\n",
       "      <td>3288.3640</td>\n",
       "      <td>769.23</td>\n",
       "      <td>40</td>\n",
       "      <td>40</td>\n",
       "      <td>1</td>\n",
       "      <td>NaN</td>\n",
       "      <td>...</td>\n",
       "      <td>2</td>\n",
       "      <td>4</td>\n",
       "      <td>Native, Born In US</td>\n",
       "      <td>63</td>\n",
       "      <td>**Publishing, except newspapers and software (...</td>\n",
       "      <td>8255</td>\n",
       "      <td>Private, For Profit</td>\n",
       "      <td>Yes</td>\n",
       "      <td>NaN</td>\n",
       "      <td>Employed-At Work</td>\n",
       "    </tr>\n",
       "    <tr>\n",
       "      <th>4</th>\n",
       "      <td>11</td>\n",
       "      <td>179140131100930</td>\n",
       "      <td>January</td>\n",
       "      <td>AL</td>\n",
       "      <td>3422.8500</td>\n",
       "      <td>826.92</td>\n",
       "      <td>40</td>\n",
       "      <td>43</td>\n",
       "      <td>1</td>\n",
       "      <td>NaN</td>\n",
       "      <td>...</td>\n",
       "      <td>2</td>\n",
       "      <td>4</td>\n",
       "      <td>Native, Born In US</td>\n",
       "      <td>63</td>\n",
       "      <td>Banking and related activities (521, 52211,52219)</td>\n",
       "      <td>5940</td>\n",
       "      <td>Private, For Profit</td>\n",
       "      <td>No</td>\n",
       "      <td>No</td>\n",
       "      <td>Employed-At Work</td>\n",
       "    </tr>\n",
       "  </tbody>\n",
       "</table>\n",
       "<p>5 rows × 23 columns</p>\n",
       "</div>"
      ],
      "text/plain": [
       "   Unnamed: 0             hhid intmonth stfips     weight  earnwke  uhours  \\\n",
       "0           3    2600310997690  January     AL  3151.6801  1692.00      40   \n",
       "1           5   75680310997590  January     AL  3457.1138   450.00      40   \n",
       "2           6   75680310997590  January     AL  3936.9110  1090.00      60   \n",
       "3          10  179140131100930  January     AL  3288.3640   769.23      40   \n",
       "4          11  179140131100930  January     AL  3422.8500   826.92      40   \n",
       "\n",
       "   grade92  race  ethnic  ...  ownchild  chldpres            prcitshp  state  \\\n",
       "0       43     1     NaN  ...         0         0  Native, Born In US     63   \n",
       "1       41     2     NaN  ...         2         6  Native, Born In US     63   \n",
       "2       41     2     NaN  ...         2         6  Native, Born In US     63   \n",
       "3       40     1     NaN  ...         2         4  Native, Born In US     63   \n",
       "4       43     1     NaN  ...         2         4  Native, Born In US     63   \n",
       "\n",
       "                                               ind02 occ2012  \\\n",
       "0                         Employment services (5613)     630   \n",
       "1                     Outpatient care centers (6214)    5400   \n",
       "2  Motor vehicles and motor vehicle equipment man...    8140   \n",
       "3  **Publishing, except newspapers and software (...    8255   \n",
       "4  Banking and related activities (521, 52211,52219)    5940   \n",
       "\n",
       "                 class unionmme  unioncov            lfsr94  \n",
       "0  Private, For Profit       No        No  Employed-At Work  \n",
       "1  Private, For Profit       No        No   Employed-Absent  \n",
       "2  Private, For Profit       No        No  Employed-At Work  \n",
       "3  Private, For Profit      Yes       NaN  Employed-At Work  \n",
       "4  Private, For Profit       No        No  Employed-At Work  \n",
       "\n",
       "[5 rows x 23 columns]"
      ]
     },
     "execution_count": 3,
     "metadata": {},
     "output_type": "execute_result"
    }
   ],
   "source": [
    "# Reading the data\n",
    "data = pd.read_csv(\"morg-2014-emp.csv\")\n",
    "\n",
    "# Checking if the data was correctly loaded\n",
    "data.head()"
   ]
  },
  {
   "cell_type": "code",
   "execution_count": 4,
   "id": "750313a5-2736-4946-8bfb-5eb4380df01e",
   "metadata": {
    "tags": []
   },
   "outputs": [
    {
     "name": "stdout",
     "output_type": "stream",
     "text": [
      "<class 'pandas.core.frame.DataFrame'>\n",
      "RangeIndex: 149316 entries, 0 to 149315\n",
      "Data columns (total 23 columns):\n",
      " #   Column      Non-Null Count   Dtype  \n",
      "---  ------      --------------   -----  \n",
      " 0   Unnamed: 0  149316 non-null  int64  \n",
      " 1   hhid        149316 non-null  int64  \n",
      " 2   intmonth    149316 non-null  object \n",
      " 3   stfips      149316 non-null  object \n",
      " 4   weight      149316 non-null  float64\n",
      " 5   earnwke     149316 non-null  float64\n",
      " 6   uhours      149316 non-null  int64  \n",
      " 7   grade92     149316 non-null  int64  \n",
      " 8   race        149316 non-null  int64  \n",
      " 9   ethnic      20071 non-null   float64\n",
      " 10  age         149316 non-null  int64  \n",
      " 11  sex         149316 non-null  int64  \n",
      " 12  marital     149316 non-null  int64  \n",
      " 13  ownchild    149316 non-null  int64  \n",
      " 14  chldpres    149316 non-null  int64  \n",
      " 15  prcitshp    149316 non-null  object \n",
      " 16  state       149316 non-null  object \n",
      " 17  ind02       149316 non-null  object \n",
      " 18  occ2012     149316 non-null  int64  \n",
      " 19  class       149316 non-null  object \n",
      " 20  unionmme    149316 non-null  object \n",
      " 21  unioncov    132220 non-null  object \n",
      " 22  lfsr94      149316 non-null  object \n",
      "dtypes: float64(3), int64(11), object(9)\n",
      "memory usage: 26.2+ MB\n"
     ]
    }
   ],
   "source": [
    "data.info()"
   ]
  },
  {
   "cell_type": "markdown",
   "id": "ecfc1267-df97-4a27-8ffa-c78b23bf9947",
   "metadata": {},
   "source": [
    "### Exploratory Data Analysis"
   ]
  },
  {
   "cell_type": "code",
   "execution_count": 5,
   "id": "33e54754-911b-448f-b786-aa28f99e35fc",
   "metadata": {
    "tags": []
   },
   "outputs": [
    {
     "data": {
      "text/plain": [
       "Index(['Unnamed: 0', 'hhid', 'intmonth', 'stfips', 'weight', 'earnwke',\n",
       "       'uhours', 'grade92', 'race', 'ethnic', 'age', 'sex', 'marital',\n",
       "       'ownchild', 'chldpres', 'prcitshp', 'state', 'ind02', 'occ2012',\n",
       "       'class', 'unionmme', 'unioncov', 'lfsr94'],\n",
       "      dtype='object')"
      ]
     },
     "execution_count": 5,
     "metadata": {},
     "output_type": "execute_result"
    }
   ],
   "source": [
    "# Checking the column names to correctly call the variable names\n",
    "data.columns"
   ]
  },
  {
   "cell_type": "code",
   "execution_count": 6,
   "id": "db15f5f9-1cb0-47ff-8ea7-b2d4480c296c",
   "metadata": {
    "tags": []
   },
   "outputs": [
    {
     "data": {
      "text/html": [
       "<div>\n",
       "<style scoped>\n",
       "    .dataframe tbody tr th:only-of-type {\n",
       "        vertical-align: middle;\n",
       "    }\n",
       "\n",
       "    .dataframe tbody tr th {\n",
       "        vertical-align: top;\n",
       "    }\n",
       "\n",
       "    .dataframe thead th {\n",
       "        text-align: right;\n",
       "    }\n",
       "</style>\n",
       "<table border=\"1\" class=\"dataframe\">\n",
       "  <thead>\n",
       "    <tr style=\"text-align: right;\">\n",
       "      <th></th>\n",
       "      <th>Unnamed: 0</th>\n",
       "      <th>hhid</th>\n",
       "      <th>intmonth</th>\n",
       "      <th>stfips</th>\n",
       "      <th>weight</th>\n",
       "      <th>earnwke</th>\n",
       "      <th>uhours</th>\n",
       "      <th>grade92</th>\n",
       "      <th>race</th>\n",
       "      <th>ethnic</th>\n",
       "      <th>...</th>\n",
       "      <th>ownchild</th>\n",
       "      <th>chldpres</th>\n",
       "      <th>prcitshp</th>\n",
       "      <th>state</th>\n",
       "      <th>ind02</th>\n",
       "      <th>occ2012</th>\n",
       "      <th>class</th>\n",
       "      <th>unionmme</th>\n",
       "      <th>unioncov</th>\n",
       "      <th>lfsr94</th>\n",
       "    </tr>\n",
       "  </thead>\n",
       "  <tbody>\n",
       "    <tr>\n",
       "      <th>0</th>\n",
       "      <td>3</td>\n",
       "      <td>2600310997690</td>\n",
       "      <td>January</td>\n",
       "      <td>AL</td>\n",
       "      <td>3151.6801</td>\n",
       "      <td>1692.00</td>\n",
       "      <td>40</td>\n",
       "      <td>43</td>\n",
       "      <td>1</td>\n",
       "      <td>NaN</td>\n",
       "      <td>...</td>\n",
       "      <td>0</td>\n",
       "      <td>0</td>\n",
       "      <td>Native, Born In US</td>\n",
       "      <td>63</td>\n",
       "      <td>Employment services (5613)</td>\n",
       "      <td>630</td>\n",
       "      <td>Private, For Profit</td>\n",
       "      <td>No</td>\n",
       "      <td>No</td>\n",
       "      <td>Employed-At Work</td>\n",
       "    </tr>\n",
       "    <tr>\n",
       "      <th>271</th>\n",
       "      <td>598</td>\n",
       "      <td>992279930309004</td>\n",
       "      <td>January</td>\n",
       "      <td>AK</td>\n",
       "      <td>360.3615</td>\n",
       "      <td>923.00</td>\n",
       "      <td>40</td>\n",
       "      <td>43</td>\n",
       "      <td>1</td>\n",
       "      <td>NaN</td>\n",
       "      <td>...</td>\n",
       "      <td>1</td>\n",
       "      <td>4</td>\n",
       "      <td>Native, Born In US</td>\n",
       "      <td>94</td>\n",
       "      <td>Support activities for mining (213)</td>\n",
       "      <td>136</td>\n",
       "      <td>Private, For Profit</td>\n",
       "      <td>No</td>\n",
       "      <td>No</td>\n",
       "      <td>Employed-At Work</td>\n",
       "    </tr>\n",
       "    <tr>\n",
       "      <th>545</th>\n",
       "      <td>1236</td>\n",
       "      <td>5017808077661</td>\n",
       "      <td>January</td>\n",
       "      <td>CA</td>\n",
       "      <td>3452.5706</td>\n",
       "      <td>1615.38</td>\n",
       "      <td>40</td>\n",
       "      <td>39</td>\n",
       "      <td>1</td>\n",
       "      <td>NaN</td>\n",
       "      <td>...</td>\n",
       "      <td>1</td>\n",
       "      <td>3</td>\n",
       "      <td>Native, Born In US</td>\n",
       "      <td>93</td>\n",
       "      <td>Executive offices and legislative bodies (9211...</td>\n",
       "      <td>630</td>\n",
       "      <td>Government - Federal</td>\n",
       "      <td>No</td>\n",
       "      <td>No</td>\n",
       "      <td>Employed-At Work</td>\n",
       "    </tr>\n",
       "    <tr>\n",
       "      <th>601</th>\n",
       "      <td>1351</td>\n",
       "      <td>65520360020508</td>\n",
       "      <td>January</td>\n",
       "      <td>CA</td>\n",
       "      <td>3457.9806</td>\n",
       "      <td>807.69</td>\n",
       "      <td>40</td>\n",
       "      <td>44</td>\n",
       "      <td>1</td>\n",
       "      <td>1.0</td>\n",
       "      <td>...</td>\n",
       "      <td>0</td>\n",
       "      <td>0</td>\n",
       "      <td>Native, Born In US</td>\n",
       "      <td>93</td>\n",
       "      <td>Museums, art galleries, historical sites, and ...</td>\n",
       "      <td>136</td>\n",
       "      <td>Private, Nonprofit</td>\n",
       "      <td>No</td>\n",
       "      <td>No</td>\n",
       "      <td>Employed-At Work</td>\n",
       "    </tr>\n",
       "    <tr>\n",
       "      <th>695</th>\n",
       "      <td>1569</td>\n",
       "      <td>256080630550002</td>\n",
       "      <td>January</td>\n",
       "      <td>CA</td>\n",
       "      <td>2889.1284</td>\n",
       "      <td>807.00</td>\n",
       "      <td>40</td>\n",
       "      <td>44</td>\n",
       "      <td>1</td>\n",
       "      <td>7.0</td>\n",
       "      <td>...</td>\n",
       "      <td>0</td>\n",
       "      <td>0</td>\n",
       "      <td>Native, Born In US</td>\n",
       "      <td>93</td>\n",
       "      <td>Museums, art galleries, historical sites, and ...</td>\n",
       "      <td>136</td>\n",
       "      <td>Private, Nonprofit</td>\n",
       "      <td>No</td>\n",
       "      <td>No</td>\n",
       "      <td>Employed-At Work</td>\n",
       "    </tr>\n",
       "    <tr>\n",
       "      <th>...</th>\n",
       "      <td>...</td>\n",
       "      <td>...</td>\n",
       "      <td>...</td>\n",
       "      <td>...</td>\n",
       "      <td>...</td>\n",
       "      <td>...</td>\n",
       "      <td>...</td>\n",
       "      <td>...</td>\n",
       "      <td>...</td>\n",
       "      <td>...</td>\n",
       "      <td>...</td>\n",
       "      <td>...</td>\n",
       "      <td>...</td>\n",
       "      <td>...</td>\n",
       "      <td>...</td>\n",
       "      <td>...</td>\n",
       "      <td>...</td>\n",
       "      <td>...</td>\n",
       "      <td>...</td>\n",
       "      <td>...</td>\n",
       "      <td>...</td>\n",
       "    </tr>\n",
       "    <tr>\n",
       "      <th>148598</th>\n",
       "      <td>315498</td>\n",
       "      <td>58305630783096</td>\n",
       "      <td>December</td>\n",
       "      <td>WA</td>\n",
       "      <td>3039.5721</td>\n",
       "      <td>600.00</td>\n",
       "      <td>37</td>\n",
       "      <td>39</td>\n",
       "      <td>1</td>\n",
       "      <td>1.0</td>\n",
       "      <td>...</td>\n",
       "      <td>0</td>\n",
       "      <td>0</td>\n",
       "      <td>Native, Born In US</td>\n",
       "      <td>9</td>\n",
       "      <td>Other amusement, gambling, and recreation indu...</td>\n",
       "      <td>630</td>\n",
       "      <td>Private, For Profit</td>\n",
       "      <td>No</td>\n",
       "      <td>No</td>\n",
       "      <td>Employed-At Work</td>\n",
       "    </tr>\n",
       "    <tr>\n",
       "      <th>148774</th>\n",
       "      <td>315915</td>\n",
       "      <td>108415040044617</td>\n",
       "      <td>December</td>\n",
       "      <td>WV</td>\n",
       "      <td>673.5209</td>\n",
       "      <td>668.42</td>\n",
       "      <td>38</td>\n",
       "      <td>43</td>\n",
       "      <td>1</td>\n",
       "      <td>NaN</td>\n",
       "      <td>...</td>\n",
       "      <td>0</td>\n",
       "      <td>0</td>\n",
       "      <td>Native, Born In US</td>\n",
       "      <td>5</td>\n",
       "      <td>Outpatient care centers (6214)</td>\n",
       "      <td>136</td>\n",
       "      <td>Private, For Profit</td>\n",
       "      <td>No</td>\n",
       "      <td>No</td>\n",
       "      <td>Employed-At Work</td>\n",
       "    </tr>\n",
       "    <tr>\n",
       "      <th>148827</th>\n",
       "      <td>316049</td>\n",
       "      <td>505181410066</td>\n",
       "      <td>December</td>\n",
       "      <td>WV</td>\n",
       "      <td>539.8396</td>\n",
       "      <td>115.38</td>\n",
       "      <td>50</td>\n",
       "      <td>44</td>\n",
       "      <td>1</td>\n",
       "      <td>NaN</td>\n",
       "      <td>...</td>\n",
       "      <td>0</td>\n",
       "      <td>0</td>\n",
       "      <td>Native, Born In US</td>\n",
       "      <td>5</td>\n",
       "      <td>Other schools, instruction, and educational se...</td>\n",
       "      <td>630</td>\n",
       "      <td>Private, Nonprofit</td>\n",
       "      <td>No</td>\n",
       "      <td>No</td>\n",
       "      <td>Employed-Absent</td>\n",
       "    </tr>\n",
       "    <tr>\n",
       "      <th>148943</th>\n",
       "      <td>316329</td>\n",
       "      <td>102506390510951</td>\n",
       "      <td>December</td>\n",
       "      <td>WI</td>\n",
       "      <td>3529.8688</td>\n",
       "      <td>692.40</td>\n",
       "      <td>40</td>\n",
       "      <td>43</td>\n",
       "      <td>1</td>\n",
       "      <td>NaN</td>\n",
       "      <td>...</td>\n",
       "      <td>0</td>\n",
       "      <td>0</td>\n",
       "      <td>Native, Born In US</td>\n",
       "      <td>3</td>\n",
       "      <td>Computer systems design and related services (...</td>\n",
       "      <td>630</td>\n",
       "      <td>Private, For Profit</td>\n",
       "      <td>No</td>\n",
       "      <td>No</td>\n",
       "      <td>Employed-At Work</td>\n",
       "    </tr>\n",
       "    <tr>\n",
       "      <th>149052</th>\n",
       "      <td>316539</td>\n",
       "      <td>50510014758348</td>\n",
       "      <td>December</td>\n",
       "      <td>WI</td>\n",
       "      <td>2834.1690</td>\n",
       "      <td>1442.00</td>\n",
       "      <td>60</td>\n",
       "      <td>43</td>\n",
       "      <td>2</td>\n",
       "      <td>NaN</td>\n",
       "      <td>...</td>\n",
       "      <td>0</td>\n",
       "      <td>0</td>\n",
       "      <td>Native, Born In US</td>\n",
       "      <td>3</td>\n",
       "      <td>Foundries (3315)</td>\n",
       "      <td>136</td>\n",
       "      <td>Private, For Profit</td>\n",
       "      <td>No</td>\n",
       "      <td>No</td>\n",
       "      <td>Employed-At Work</td>\n",
       "    </tr>\n",
       "  </tbody>\n",
       "</table>\n",
       "<p>1017 rows × 23 columns</p>\n",
       "</div>"
      ],
      "text/plain": [
       "        Unnamed: 0             hhid  intmonth stfips     weight  earnwke  \\\n",
       "0                3    2600310997690   January     AL  3151.6801  1692.00   \n",
       "271            598  992279930309004   January     AK   360.3615   923.00   \n",
       "545           1236    5017808077661   January     CA  3452.5706  1615.38   \n",
       "601           1351   65520360020508   January     CA  3457.9806   807.69   \n",
       "695           1569  256080630550002   January     CA  2889.1284   807.00   \n",
       "...            ...              ...       ...    ...        ...      ...   \n",
       "148598      315498   58305630783096  December     WA  3039.5721   600.00   \n",
       "148774      315915  108415040044617  December     WV   673.5209   668.42   \n",
       "148827      316049     505181410066  December     WV   539.8396   115.38   \n",
       "148943      316329  102506390510951  December     WI  3529.8688   692.40   \n",
       "149052      316539   50510014758348  December     WI  2834.1690  1442.00   \n",
       "\n",
       "        uhours  grade92  race  ethnic  ...  ownchild  chldpres  \\\n",
       "0           40       43     1     NaN  ...         0         0   \n",
       "271         40       43     1     NaN  ...         1         4   \n",
       "545         40       39     1     NaN  ...         1         3   \n",
       "601         40       44     1     1.0  ...         0         0   \n",
       "695         40       44     1     7.0  ...         0         0   \n",
       "...        ...      ...   ...     ...  ...       ...       ...   \n",
       "148598      37       39     1     1.0  ...         0         0   \n",
       "148774      38       43     1     NaN  ...         0         0   \n",
       "148827      50       44     1     NaN  ...         0         0   \n",
       "148943      40       43     1     NaN  ...         0         0   \n",
       "149052      60       43     2     NaN  ...         0         0   \n",
       "\n",
       "                  prcitshp  state  \\\n",
       "0       Native, Born In US     63   \n",
       "271     Native, Born In US     94   \n",
       "545     Native, Born In US     93   \n",
       "601     Native, Born In US     93   \n",
       "695     Native, Born In US     93   \n",
       "...                    ...    ...   \n",
       "148598  Native, Born In US      9   \n",
       "148774  Native, Born In US      5   \n",
       "148827  Native, Born In US      5   \n",
       "148943  Native, Born In US      3   \n",
       "149052  Native, Born In US      3   \n",
       "\n",
       "                                                    ind02 occ2012  \\\n",
       "0                              Employment services (5613)     630   \n",
       "271                   Support activities for mining (213)     136   \n",
       "545     Executive offices and legislative bodies (9211...     630   \n",
       "601     Museums, art galleries, historical sites, and ...     136   \n",
       "695     Museums, art galleries, historical sites, and ...     136   \n",
       "...                                                   ...     ...   \n",
       "148598  Other amusement, gambling, and recreation indu...     630   \n",
       "148774                     Outpatient care centers (6214)     136   \n",
       "148827  Other schools, instruction, and educational se...     630   \n",
       "148943  Computer systems design and related services (...     630   \n",
       "149052                                   Foundries (3315)     136   \n",
       "\n",
       "                       class unionmme  unioncov            lfsr94  \n",
       "0        Private, For Profit       No        No  Employed-At Work  \n",
       "271      Private, For Profit       No        No  Employed-At Work  \n",
       "545     Government - Federal       No        No  Employed-At Work  \n",
       "601       Private, Nonprofit       No        No  Employed-At Work  \n",
       "695       Private, Nonprofit       No        No  Employed-At Work  \n",
       "...                      ...      ...       ...               ...  \n",
       "148598   Private, For Profit       No        No  Employed-At Work  \n",
       "148774   Private, For Profit       No        No  Employed-At Work  \n",
       "148827    Private, Nonprofit       No        No   Employed-Absent  \n",
       "148943   Private, For Profit       No        No  Employed-At Work  \n",
       "149052   Private, For Profit       No        No  Employed-At Work  \n",
       "\n",
       "[1017 rows x 23 columns]"
      ]
     },
     "execution_count": 6,
     "metadata": {},
     "output_type": "execute_result"
    }
   ],
   "source": [
    "# Filtering for Human resource managers (0136) and Human resource workers (630)\n",
    "data = data[data['occ2012'].isin([136, 630])]\n",
    "data"
   ]
  },
  {
   "cell_type": "markdown",
   "id": "348b4d8c-06e7-452e-ab4d-0ab07b655a11",
   "metadata": {},
   "source": [
    "### Creating variables:\n",
    "- earnings per hour\n",
    "- log earnings per hour\n",
    "- female as a dummy variable\n",
    "- age\n",
    "- age squared\n",
    "- level of education (high school education and higher education separately) as a dummy variable\n",
    "- having children as a dummy variable"
   ]
  },
  {
   "cell_type": "code",
   "execution_count": 7,
   "id": "095142c2-5c60-4915-b6cf-a35c35bfbacf",
   "metadata": {
    "tags": []
   },
   "outputs": [],
   "source": [
    "# Creating new variables\n",
    "data[\"earnphour\"] = data[\"earnwke\"] / data[\"uhours\"]\n",
    "data[\"lnearnphour\"] = np.log(data[\"earnphour\"])\n",
    "data[\"female\"] = (data[\"sex\"] == 2)\n",
    "data[\"agesq\"] = np.power(data[\"age\"], 2)\n",
    "data[\"edu\"] = data[\"grade92\"]\n",
    "data[\"children\"] = (data[\"chldpres\"].isin([1,2,3,4]).astype(int))"
   ]
  },
  {
   "cell_type": "code",
   "execution_count": 8,
   "id": "a9afb8fa-2b6c-4932-a611-830aa004cb36",
   "metadata": {
    "tags": []
   },
   "outputs": [],
   "source": [
    "# Grouping educational levels and creating dummies\n",
    "# 'hsedu' referring to high school education\n",
    "# \"higheredu\" referring to higher education, including Bachelors, Masters, PhD and Professional degrees\n",
    "data[\"hsedu\"] = (data[\"grade92\"] == 39).astype(int)\n",
    "data[\"higheredu\"] = (data[\"grade92\"].isin([40, 41 ,42 , 43, 44, 45, 46]).astype(int))"
   ]
  },
  {
   "cell_type": "code",
   "execution_count": 9,
   "id": "49b7c43e-c00e-41d6-b290-40c2c90bd8b5",
   "metadata": {
    "tags": []
   },
   "outputs": [
    {
     "data": {
      "image/png": "[encoded data removed]",
      "text/plain": [
       "<Figure size 640x480 with 1 Axes>"
      ]
     },
     "metadata": {
      "image/png": {
       "height": 480,
       "width": 640
      }
     },
     "output_type": "display_data"
    },
    {
     "data": {
      "text/plain": [
       "<Figure Size: (640 x 480)>"
      ]
     },
     "execution_count": 9,
     "metadata": {},
     "output_type": "execute_result"
    }
   ],
   "source": [
    "# Checking for the quality of the distribution and sufficient variation\n",
    "ggplot(data, aes(x='earnphour')) + geom_histogram(fill='purple', color='purple', bins=100)"
   ]
  },
  {
   "cell_type": "code",
   "execution_count": 10,
   "id": "3c9827e2-8877-43ec-8f91-42c58f33577a",
   "metadata": {
    "tags": []
   },
   "outputs": [
    {
     "data": {
      "image/png": "[encoded data removed]",
      "text/plain": [
       "<Figure size 640x480 with 1 Axes>"
      ]
     },
     "metadata": {
      "image/png": {
       "height": 480,
       "width": 640
      }
     },
     "output_type": "display_data"
    },
    {
     "data": {
      "text/plain": [
       "<Figure Size: (640 x 480)>"
      ]
     },
     "execution_count": 10,
     "metadata": {},
     "output_type": "execute_result"
    }
   ],
   "source": [
    "# Checking the log earnings per hour distribution\n",
    "ggplot(data, aes(x='lnearnphour')) + geom_histogram(fill='purple', color='purple', bins=100)"
   ]
  },
  {
   "cell_type": "code",
   "execution_count": 11,
   "id": "a71f0a96-d06b-4d28-8ab5-948932d4d3fb",
   "metadata": {
    "tags": []
   },
   "outputs": [
    {
     "data": {
      "text/html": [
       "<div>\n",
       "<style scoped>\n",
       "    .dataframe tbody tr th:only-of-type {\n",
       "        vertical-align: middle;\n",
       "    }\n",
       "\n",
       "    .dataframe tbody tr th {\n",
       "        vertical-align: top;\n",
       "    }\n",
       "\n",
       "    .dataframe thead th {\n",
       "        text-align: right;\n",
       "    }\n",
       "</style>\n",
       "<table border=\"1\" class=\"dataframe\">\n",
       "  <thead>\n",
       "    <tr style=\"text-align: right;\">\n",
       "      <th></th>\n",
       "      <th>Unnamed: 0</th>\n",
       "      <th>hhid</th>\n",
       "      <th>intmonth</th>\n",
       "      <th>stfips</th>\n",
       "      <th>weight</th>\n",
       "      <th>earnwke</th>\n",
       "      <th>uhours</th>\n",
       "      <th>grade92</th>\n",
       "      <th>race</th>\n",
       "      <th>ethnic</th>\n",
       "      <th>...</th>\n",
       "      <th>unioncov</th>\n",
       "      <th>lfsr94</th>\n",
       "      <th>earnphour</th>\n",
       "      <th>lnearnphour</th>\n",
       "      <th>female</th>\n",
       "      <th>agesq</th>\n",
       "      <th>edu</th>\n",
       "      <th>children</th>\n",
       "      <th>hsedu</th>\n",
       "      <th>higheredu</th>\n",
       "    </tr>\n",
       "  </thead>\n",
       "  <tbody>\n",
       "    <tr>\n",
       "      <th>148827</th>\n",
       "      <td>316049</td>\n",
       "      <td>505181410066</td>\n",
       "      <td>December</td>\n",
       "      <td>WV</td>\n",
       "      <td>539.8396</td>\n",
       "      <td>115.38</td>\n",
       "      <td>50</td>\n",
       "      <td>44</td>\n",
       "      <td>1</td>\n",
       "      <td>NaN</td>\n",
       "      <td>...</td>\n",
       "      <td>No</td>\n",
       "      <td>Employed-Absent</td>\n",
       "      <td>2.307600</td>\n",
       "      <td>0.836208</td>\n",
       "      <td>False</td>\n",
       "      <td>3364</td>\n",
       "      <td>44</td>\n",
       "      <td>0</td>\n",
       "      <td>0</td>\n",
       "      <td>1</td>\n",
       "    </tr>\n",
       "    <tr>\n",
       "      <th>4714</th>\n",
       "      <td>10248</td>\n",
       "      <td>202033508042251</td>\n",
       "      <td>January</td>\n",
       "      <td>LA</td>\n",
       "      <td>3390.3011</td>\n",
       "      <td>96.15</td>\n",
       "      <td>40</td>\n",
       "      <td>44</td>\n",
       "      <td>1</td>\n",
       "      <td>NaN</td>\n",
       "      <td>...</td>\n",
       "      <td>No</td>\n",
       "      <td>Employed-At Work</td>\n",
       "      <td>2.403750</td>\n",
       "      <td>0.877030</td>\n",
       "      <td>False</td>\n",
       "      <td>900</td>\n",
       "      <td>44</td>\n",
       "      <td>0</td>\n",
       "      <td>0</td>\n",
       "      <td>1</td>\n",
       "    </tr>\n",
       "    <tr>\n",
       "      <th>36996</th>\n",
       "      <td>78975</td>\n",
       "      <td>126068879100966</td>\n",
       "      <td>April</td>\n",
       "      <td>AL</td>\n",
       "      <td>3400.8182</td>\n",
       "      <td>230.00</td>\n",
       "      <td>45</td>\n",
       "      <td>39</td>\n",
       "      <td>1</td>\n",
       "      <td>NaN</td>\n",
       "      <td>...</td>\n",
       "      <td>No</td>\n",
       "      <td>Employed-At Work</td>\n",
       "      <td>5.111111</td>\n",
       "      <td>1.631417</td>\n",
       "      <td>True</td>\n",
       "      <td>2601</td>\n",
       "      <td>39</td>\n",
       "      <td>0</td>\n",
       "      <td>1</td>\n",
       "      <td>0</td>\n",
       "    </tr>\n",
       "    <tr>\n",
       "      <th>89718</th>\n",
       "      <td>190683</td>\n",
       "      <td>502906731999943</td>\n",
       "      <td>August</td>\n",
       "      <td>GA</td>\n",
       "      <td>2870.6039</td>\n",
       "      <td>213.69</td>\n",
       "      <td>40</td>\n",
       "      <td>43</td>\n",
       "      <td>1</td>\n",
       "      <td>1.0</td>\n",
       "      <td>...</td>\n",
       "      <td>No</td>\n",
       "      <td>Employed-At Work</td>\n",
       "      <td>5.342250</td>\n",
       "      <td>1.675647</td>\n",
       "      <td>True</td>\n",
       "      <td>1521</td>\n",
       "      <td>43</td>\n",
       "      <td>1</td>\n",
       "      <td>0</td>\n",
       "      <td>1</td>\n",
       "    </tr>\n",
       "    <tr>\n",
       "      <th>31302</th>\n",
       "      <td>66879</td>\n",
       "      <td>803016065908994</td>\n",
       "      <td>March</td>\n",
       "      <td>MT</td>\n",
       "      <td>1024.6256</td>\n",
       "      <td>83.07</td>\n",
       "      <td>15</td>\n",
       "      <td>40</td>\n",
       "      <td>1</td>\n",
       "      <td>NaN</td>\n",
       "      <td>...</td>\n",
       "      <td>No</td>\n",
       "      <td>Employed-At Work</td>\n",
       "      <td>5.538000</td>\n",
       "      <td>1.711633</td>\n",
       "      <td>False</td>\n",
       "      <td>441</td>\n",
       "      <td>40</td>\n",
       "      <td>0</td>\n",
       "      <td>0</td>\n",
       "      <td>1</td>\n",
       "    </tr>\n",
       "    <tr>\n",
       "      <th>...</th>\n",
       "      <td>...</td>\n",
       "      <td>...</td>\n",
       "      <td>...</td>\n",
       "      <td>...</td>\n",
       "      <td>...</td>\n",
       "      <td>...</td>\n",
       "      <td>...</td>\n",
       "      <td>...</td>\n",
       "      <td>...</td>\n",
       "      <td>...</td>\n",
       "      <td>...</td>\n",
       "      <td>...</td>\n",
       "      <td>...</td>\n",
       "      <td>...</td>\n",
       "      <td>...</td>\n",
       "      <td>...</td>\n",
       "      <td>...</td>\n",
       "      <td>...</td>\n",
       "      <td>...</td>\n",
       "      <td>...</td>\n",
       "      <td>...</td>\n",
       "    </tr>\n",
       "    <tr>\n",
       "      <th>144685</th>\n",
       "      <td>307293</td>\n",
       "      <td>196090160000301</td>\n",
       "      <td>December</td>\n",
       "      <td>NY</td>\n",
       "      <td>3191.0810</td>\n",
       "      <td>2884.61</td>\n",
       "      <td>40</td>\n",
       "      <td>44</td>\n",
       "      <td>1</td>\n",
       "      <td>NaN</td>\n",
       "      <td>...</td>\n",
       "      <td>No</td>\n",
       "      <td>Employed-At Work</td>\n",
       "      <td>72.115250</td>\n",
       "      <td>4.278266</td>\n",
       "      <td>True</td>\n",
       "      <td>3721</td>\n",
       "      <td>44</td>\n",
       "      <td>0</td>\n",
       "      <td>0</td>\n",
       "      <td>1</td>\n",
       "    </tr>\n",
       "    <tr>\n",
       "      <th>133206</th>\n",
       "      <td>282636</td>\n",
       "      <td>43059686300841</td>\n",
       "      <td>November</td>\n",
       "      <td>OH</td>\n",
       "      <td>2733.3221</td>\n",
       "      <td>1200.00</td>\n",
       "      <td>16</td>\n",
       "      <td>43</td>\n",
       "      <td>1</td>\n",
       "      <td>NaN</td>\n",
       "      <td>...</td>\n",
       "      <td>No</td>\n",
       "      <td>Employed-At Work</td>\n",
       "      <td>75.000000</td>\n",
       "      <td>4.317488</td>\n",
       "      <td>True</td>\n",
       "      <td>3969</td>\n",
       "      <td>43</td>\n",
       "      <td>0</td>\n",
       "      <td>0</td>\n",
       "      <td>1</td>\n",
       "    </tr>\n",
       "    <tr>\n",
       "      <th>56830</th>\n",
       "      <td>121226</td>\n",
       "      <td>396947702067673</td>\n",
       "      <td>May</td>\n",
       "      <td>NY</td>\n",
       "      <td>2759.8090</td>\n",
       "      <td>2884.61</td>\n",
       "      <td>35</td>\n",
       "      <td>44</td>\n",
       "      <td>2</td>\n",
       "      <td>NaN</td>\n",
       "      <td>...</td>\n",
       "      <td>No</td>\n",
       "      <td>Employed-At Work</td>\n",
       "      <td>82.417429</td>\n",
       "      <td>4.411797</td>\n",
       "      <td>True</td>\n",
       "      <td>1369</td>\n",
       "      <td>44</td>\n",
       "      <td>1</td>\n",
       "      <td>0</td>\n",
       "      <td>1</td>\n",
       "    </tr>\n",
       "    <tr>\n",
       "      <th>30576</th>\n",
       "      <td>65402</td>\n",
       "      <td>450974079025329</td>\n",
       "      <td>March</td>\n",
       "      <td>MN</td>\n",
       "      <td>1767.7635</td>\n",
       "      <td>2307.69</td>\n",
       "      <td>28</td>\n",
       "      <td>45</td>\n",
       "      <td>1</td>\n",
       "      <td>NaN</td>\n",
       "      <td>...</td>\n",
       "      <td>No</td>\n",
       "      <td>Employed-At Work</td>\n",
       "      <td>82.417500</td>\n",
       "      <td>4.411798</td>\n",
       "      <td>True</td>\n",
       "      <td>2809</td>\n",
       "      <td>45</td>\n",
       "      <td>0</td>\n",
       "      <td>0</td>\n",
       "      <td>1</td>\n",
       "    </tr>\n",
       "    <tr>\n",
       "      <th>25957</th>\n",
       "      <td>55807</td>\n",
       "      <td>901908870391056</td>\n",
       "      <td>March</td>\n",
       "      <td>CA</td>\n",
       "      <td>3107.5898</td>\n",
       "      <td>2557.69</td>\n",
       "      <td>30</td>\n",
       "      <td>43</td>\n",
       "      <td>1</td>\n",
       "      <td>NaN</td>\n",
       "      <td>...</td>\n",
       "      <td>No</td>\n",
       "      <td>Employed-At Work</td>\n",
       "      <td>85.256333</td>\n",
       "      <td>4.445662</td>\n",
       "      <td>False</td>\n",
       "      <td>2601</td>\n",
       "      <td>43</td>\n",
       "      <td>0</td>\n",
       "      <td>0</td>\n",
       "      <td>1</td>\n",
       "    </tr>\n",
       "  </tbody>\n",
       "</table>\n",
       "<p>1017 rows × 31 columns</p>\n",
       "</div>"
      ],
      "text/plain": [
       "        Unnamed: 0             hhid  intmonth stfips     weight  earnwke  \\\n",
       "148827      316049     505181410066  December     WV   539.8396   115.38   \n",
       "4714         10248  202033508042251   January     LA  3390.3011    96.15   \n",
       "36996        78975  126068879100966     April     AL  3400.8182   230.00   \n",
       "89718       190683  502906731999943    August     GA  2870.6039   213.69   \n",
       "31302        66879  803016065908994     March     MT  1024.6256    83.07   \n",
       "...            ...              ...       ...    ...        ...      ...   \n",
       "144685      307293  196090160000301  December     NY  3191.0810  2884.61   \n",
       "133206      282636   43059686300841  November     OH  2733.3221  1200.00   \n",
       "56830       121226  396947702067673       May     NY  2759.8090  2884.61   \n",
       "30576        65402  450974079025329     March     MN  1767.7635  2307.69   \n",
       "25957        55807  901908870391056     March     CA  3107.5898  2557.69   \n",
       "\n",
       "        uhours  grade92  race  ethnic  ...  unioncov            lfsr94  \\\n",
       "148827      50       44     1     NaN  ...        No   Employed-Absent   \n",
       "4714        40       44     1     NaN  ...        No  Employed-At Work   \n",
       "36996       45       39     1     NaN  ...        No  Employed-At Work   \n",
       "89718       40       43     1     1.0  ...        No  Employed-At Work   \n",
       "31302       15       40     1     NaN  ...        No  Employed-At Work   \n",
       "...        ...      ...   ...     ...  ...       ...               ...   \n",
       "144685      40       44     1     NaN  ...        No  Employed-At Work   \n",
       "133206      16       43     1     NaN  ...        No  Employed-At Work   \n",
       "56830       35       44     2     NaN  ...        No  Employed-At Work   \n",
       "30576       28       45     1     NaN  ...        No  Employed-At Work   \n",
       "25957       30       43     1     NaN  ...        No  Employed-At Work   \n",
       "\n",
       "        earnphour  lnearnphour  female agesq edu children  hsedu higheredu  \n",
       "148827   2.307600     0.836208   False  3364  44        0      0         1  \n",
       "4714     2.403750     0.877030   False   900  44        0      0         1  \n",
       "36996    5.111111     1.631417    True  2601  39        0      1         0  \n",
       "89718    5.342250     1.675647    True  1521  43        1      0         1  \n",
       "31302    5.538000     1.711633   False   441  40        0      0         1  \n",
       "...           ...          ...     ...   ...  ..      ...    ...       ...  \n",
       "144685  72.115250     4.278266    True  3721  44        0      0         1  \n",
       "133206  75.000000     4.317488    True  3969  43        0      0         1  \n",
       "56830   82.417429     4.411797    True  1369  44        1      0         1  \n",
       "30576   82.417500     4.411798    True  2809  45        0      0         1  \n",
       "25957   85.256333     4.445662   False  2601  43        0      0         1  \n",
       "\n",
       "[1017 rows x 31 columns]"
      ]
     },
     "execution_count": 11,
     "metadata": {},
     "output_type": "execute_result"
    }
   ],
   "source": [
    "# Checking if we have 0 or missing values\n",
    "data.sort_values(by = 'earnphour')\n",
    "\n",
    "# There are no values = 0"
   ]
  },
  {
   "cell_type": "code",
   "execution_count": 71,
   "id": "0f9a0eaf-6cdd-4048-a320-c470d0504ed4",
   "metadata": {
    "tags": []
   },
   "outputs": [
    {
     "data": {
      "text/html": [
       "<div>\n",
       "<style scoped>\n",
       "    .dataframe tbody tr th:only-of-type {\n",
       "        vertical-align: middle;\n",
       "    }\n",
       "\n",
       "    .dataframe tbody tr th {\n",
       "        vertical-align: top;\n",
       "    }\n",
       "\n",
       "    .dataframe thead th {\n",
       "        text-align: right;\n",
       "    }\n",
       "</style>\n",
       "<table border=\"1\" class=\"dataframe\">\n",
       "  <thead>\n",
       "    <tr style=\"text-align: right;\">\n",
       "      <th></th>\n",
       "      <th>Unnamed: 0</th>\n",
       "      <th>hhid</th>\n",
       "      <th>intmonth</th>\n",
       "      <th>stfips</th>\n",
       "      <th>weight</th>\n",
       "      <th>earnwke</th>\n",
       "      <th>uhours</th>\n",
       "      <th>grade92</th>\n",
       "      <th>race</th>\n",
       "      <th>ethnic</th>\n",
       "      <th>...</th>\n",
       "      <th>unioncov</th>\n",
       "      <th>lfsr94</th>\n",
       "      <th>earnphour</th>\n",
       "      <th>lnearnphour</th>\n",
       "      <th>female</th>\n",
       "      <th>agesq</th>\n",
       "      <th>edu</th>\n",
       "      <th>children</th>\n",
       "      <th>hsedu</th>\n",
       "      <th>higheredu</th>\n",
       "    </tr>\n",
       "  </thead>\n",
       "  <tbody>\n",
       "  </tbody>\n",
       "</table>\n",
       "<p>0 rows × 31 columns</p>\n",
       "</div>"
      ],
      "text/plain": [
       "Empty DataFrame\n",
       "Columns: [Unnamed: 0, hhid, intmonth, stfips, weight, earnwke, uhours, grade92, race, ethnic, age, sex, marital, ownchild, chldpres, prcitshp, state, ind02, occ2012, class, unionmme, unioncov, lfsr94, earnphour, lnearnphour, female, agesq, edu, children, hsedu, higheredu]\n",
       "Index: []\n",
       "\n",
       "[0 rows x 31 columns]"
      ]
     },
     "execution_count": 71,
     "metadata": {},
     "output_type": "execute_result"
    }
   ],
   "source": [
    "# Checking for NaN in the 'earnphour' column\n",
    "data.loc[data[\"earnphour\"].isna()]\n",
    "\n",
    "# There are no missing values"
   ]
  },
  {
   "cell_type": "markdown",
   "id": "45cd209b-7579-4964-9224-eabdc93eabaf",
   "metadata": {},
   "source": [
    "#### Model 1. - Regression of earnings per hour on age"
   ]
  },
  {
   "cell_type": "code",
   "execution_count": 13,
   "id": "0865a4f8-38cf-40ca-a270-1cdd52e11a1f",
   "metadata": {
    "tags": []
   },
   "outputs": [
    {
     "data": {
      "text/html": [
       "<table class=\"simpletable\">\n",
       "<caption>OLS Regression Results</caption>\n",
       "<tr>\n",
       "  <th>Dep. Variable:</th>        <td>earnphour</td>    <th>  R-squared:         </th> <td>   0.056</td>\n",
       "</tr>\n",
       "<tr>\n",
       "  <th>Model:</th>                   <td>OLS</td>       <th>  Adj. R-squared:    </th> <td>   0.055</td>\n",
       "</tr>\n",
       "<tr>\n",
       "  <th>Method:</th>             <td>Least Squares</td>  <th>  F-statistic:       </th> <td>   65.41</td>\n",
       "</tr>\n",
       "<tr>\n",
       "  <th>Date:</th>             <td>Sun, 21 Jan 2024</td> <th>  Prob (F-statistic):</th> <td>1.73e-15</td>\n",
       "</tr>\n",
       "<tr>\n",
       "  <th>Time:</th>                 <td>13:08:00</td>     <th>  Log-Likelihood:    </th> <td> -4123.8</td>\n",
       "</tr>\n",
       "<tr>\n",
       "  <th>No. Observations:</th>      <td>  1017</td>      <th>  AIC:               </th> <td>   8252.</td>\n",
       "</tr>\n",
       "<tr>\n",
       "  <th>Df Residuals:</th>          <td>  1015</td>      <th>  BIC:               </th> <td>   8261.</td>\n",
       "</tr>\n",
       "<tr>\n",
       "  <th>Df Model:</th>              <td>     1</td>      <th>                     </th>     <td> </td>   \n",
       "</tr>\n",
       "<tr>\n",
       "  <th>Covariance Type:</th>         <td>HC1</td>       <th>                     </th>     <td> </td>   \n",
       "</tr>\n",
       "</table>\n",
       "<table class=\"simpletable\">\n",
       "<tr>\n",
       "      <td></td>         <th>coef</th>     <th>std err</th>      <th>z</th>      <th>P>|z|</th>  <th>[0.025</th>    <th>0.975]</th>  \n",
       "</tr>\n",
       "<tr>\n",
       "  <th>Intercept</th> <td>   16.2514</td> <td>    1.508</td> <td>   10.777</td> <td> 0.000</td> <td>   13.296</td> <td>   19.207</td>\n",
       "</tr>\n",
       "<tr>\n",
       "  <th>age</th>       <td>    0.2989</td> <td>    0.037</td> <td>    8.087</td> <td> 0.000</td> <td>    0.226</td> <td>    0.371</td>\n",
       "</tr>\n",
       "</table>\n",
       "<table class=\"simpletable\">\n",
       "<tr>\n",
       "  <th>Omnibus:</th>       <td>130.536</td> <th>  Durbin-Watson:     </th> <td>   1.790</td>\n",
       "</tr>\n",
       "<tr>\n",
       "  <th>Prob(Omnibus):</th> <td> 0.000</td>  <th>  Jarque-Bera (JB):  </th> <td> 181.444</td>\n",
       "</tr>\n",
       "<tr>\n",
       "  <th>Skew:</th>          <td> 0.970</td>  <th>  Prob(JB):          </th> <td>3.98e-40</td>\n",
       "</tr>\n",
       "<tr>\n",
       "  <th>Kurtosis:</th>      <td> 3.721</td>  <th>  Cond. No.          </th> <td>    167.</td>\n",
       "</tr>\n",
       "</table><br/><br/>Notes:<br/>[1] Standard Errors are heteroscedasticity robust (HC1)"
      ],
      "text/latex": [
       "\\begin{center}\n",
       "\\begin{tabular}{lclc}\n",
       "\\toprule\n",
       "\\textbf{Dep. Variable:}    &    earnphour     & \\textbf{  R-squared:         } &     0.056   \\\\\n",
       "\\textbf{Model:}            &       OLS        & \\textbf{  Adj. R-squared:    } &     0.055   \\\\\n",
       "\\textbf{Method:}           &  Least Squares   & \\textbf{  F-statistic:       } &     65.41   \\\\\n",
       "\\textbf{Date:}             & Sun, 21 Jan 2024 & \\textbf{  Prob (F-statistic):} &  1.73e-15   \\\\\n",
       "\\textbf{Time:}             &     13:08:00     & \\textbf{  Log-Likelihood:    } &   -4123.8   \\\\\n",
       "\\textbf{No. Observations:} &        1017      & \\textbf{  AIC:               } &     8252.   \\\\\n",
       "\\textbf{Df Residuals:}     &        1015      & \\textbf{  BIC:               } &     8261.   \\\\\n",
       "\\textbf{Df Model:}         &           1      & \\textbf{                     } &             \\\\\n",
       "\\textbf{Covariance Type:}  &       HC1        & \\textbf{                     } &             \\\\\n",
       "\\bottomrule\n",
       "\\end{tabular}\n",
       "\\begin{tabular}{lcccccc}\n",
       "                   & \\textbf{coef} & \\textbf{std err} & \\textbf{z} & \\textbf{P$> |$z$|$} & \\textbf{[0.025} & \\textbf{0.975]}  \\\\\n",
       "\\midrule\n",
       "\\textbf{Intercept} &      16.2514  &        1.508     &    10.777  &         0.000        &       13.296    &       19.207     \\\\\n",
       "\\textbf{age}       &       0.2989  &        0.037     &     8.087  &         0.000        &        0.226    &        0.371     \\\\\n",
       "\\bottomrule\n",
       "\\end{tabular}\n",
       "\\begin{tabular}{lclc}\n",
       "\\textbf{Omnibus:}       & 130.536 & \\textbf{  Durbin-Watson:     } &    1.790  \\\\\n",
       "\\textbf{Prob(Omnibus):} &   0.000 & \\textbf{  Jarque-Bera (JB):  } &  181.444  \\\\\n",
       "\\textbf{Skew:}          &   0.970 & \\textbf{  Prob(JB):          } & 3.98e-40  \\\\\n",
       "\\textbf{Kurtosis:}      &   3.721 & \\textbf{  Cond. No.          } &     167.  \\\\\n",
       "\\bottomrule\n",
       "\\end{tabular}\n",
       "%\\caption{OLS Regression Results}\n",
       "\\end{center}\n",
       "\n",
       "Notes: \\newline\n",
       " [1] Standard Errors are heteroscedasticity robust (HC1)"
      ],
      "text/plain": [
       "<class 'statsmodels.iolib.summary.Summary'>\n",
       "\"\"\"\n",
       "                            OLS Regression Results                            \n",
       "==============================================================================\n",
       "Dep. Variable:              earnphour   R-squared:                       0.056\n",
       "Model:                            OLS   Adj. R-squared:                  0.055\n",
       "Method:                 Least Squares   F-statistic:                     65.41\n",
       "Date:                Sun, 21 Jan 2024   Prob (F-statistic):           1.73e-15\n",
       "Time:                        13:08:00   Log-Likelihood:                -4123.8\n",
       "No. Observations:                1017   AIC:                             8252.\n",
       "Df Residuals:                    1015   BIC:                             8261.\n",
       "Df Model:                           1                                         \n",
       "Covariance Type:                  HC1                                         \n",
       "==============================================================================\n",
       "                 coef    std err          z      P>|z|      [0.025      0.975]\n",
       "------------------------------------------------------------------------------\n",
       "Intercept     16.2514      1.508     10.777      0.000      13.296      19.207\n",
       "age            0.2989      0.037      8.087      0.000       0.226       0.371\n",
       "==============================================================================\n",
       "Omnibus:                      130.536   Durbin-Watson:                   1.790\n",
       "Prob(Omnibus):                  0.000   Jarque-Bera (JB):              181.444\n",
       "Skew:                           0.970   Prob(JB):                     3.98e-40\n",
       "Kurtosis:                       3.721   Cond. No.                         167.\n",
       "==============================================================================\n",
       "\n",
       "Notes:\n",
       "[1] Standard Errors are heteroscedasticity robust (HC1)\n",
       "\"\"\""
      ]
     },
     "execution_count": 13,
     "metadata": {},
     "output_type": "execute_result"
    }
   ],
   "source": [
    "# Creating the regression and checking the summary of regression\n",
    "reg1 = smf.ols(formula=\"earnphour~age\", data=data).fit(cov_type=\"HC1\")\n",
    "reg1.summary()"
   ]
  },
  {
   "cell_type": "code",
   "execution_count": 72,
   "id": "13cca2e1-6a0a-4a4c-9bd1-ff32a7b39b0e",
   "metadata": {
    "tags": []
   },
   "outputs": [
    {
     "data": {
      "image/png": "[encoded data removed]",
      "text/plain": [
       "<Figure size 800x600 with 1 Axes>"
      ]
     },
     "metadata": {
      "image/png": {
       "height": 600,
       "width": 800
      }
     },
     "output_type": "display_data"
    }
   ],
   "source": [
    "# Creating the scatter plot with the regression line (model 1) and lowess method\n",
    "plt.figure(figsize=(8, 6))\n",
    "sns.regplot(x=data['age'], y=data['earnphour'], scatter_kws={'alpha': 0.5, 'color': 'purple'}, line_kws={'color': 'red'})\n",
    "\n",
    "# Calculating lowess values\n",
    "lowess = sm.nonparametric.lowess(data['earnphour'], data['age'], frac=0.3)\n",
    "\n",
    "# Plotting the lowess line\n",
    "plt.plot(lowess[:, 0], lowess[:, 1], color='black', label='Lowess Line', linewidth=3)\n",
    "\n",
    "# Customizing the titles and labels\n",
    "plt.title(\"Earnings per hour by age among Human Resources professionals and workers\")\n",
    "plt.xlabel('Age')\n",
    "plt.ylabel('Earnings per hour (wage)')\n",
    "plt.legend()\n",
    "\n",
    "plt.show()"
   ]
  },
  {
   "cell_type": "code",
   "execution_count": 73,
   "id": "108ac77c-33cc-4d8d-b624-3d8025699084",
   "metadata": {},
   "outputs": [
    {
     "name": "stdout",
     "output_type": "stream",
     "text": [
      "                            OLS Regression Results                            \n",
      "==============================================================================\n",
      "Dep. Variable:              earnphour   R-squared:                       0.056\n",
      "Model:                            OLS   Adj. R-squared:                  0.055\n",
      "Method:                 Least Squares   F-statistic:                     65.41\n",
      "Date:                Sun, 21 Jan 2024   Prob (F-statistic):           1.73e-15\n",
      "Time:                        17:01:06   Log-Likelihood:                -4123.8\n",
      "No. Observations:                1017   AIC:                             8252.\n",
      "Df Residuals:                    1015   BIC:                             8261.\n",
      "Df Model:                           1                                         \n",
      "Covariance Type:                  HC1                                         \n",
      "==============================================================================\n",
      "                 coef    std err          z      P>|z|      [0.025      0.975]\n",
      "------------------------------------------------------------------------------\n",
      "Intercept     16.2514      1.508     10.777      0.000      13.296      19.207\n",
      "age            0.2989      0.037      8.087      0.000       0.226       0.371\n",
      "==============================================================================\n",
      "Omnibus:                      130.536   Durbin-Watson:                   1.790\n",
      "Prob(Omnibus):                  0.000   Jarque-Bera (JB):              181.444\n",
      "Skew:                           0.970   Prob(JB):                     3.98e-40\n",
      "Kurtosis:                       3.721   Cond. No.                         167.\n",
      "==============================================================================\n",
      "\n",
      "Notes:\n",
      "[1] Standard Errors are heteroscedasticity robust (HC1)\n"
     ]
    }
   ],
   "source": [
    "# Regression summary with HC1 type of robust error in another summary form\n",
    "print(reg1.get_robustcov_results(cov_type='HC1').summary())"
   ]
  },
  {
   "cell_type": "markdown",
   "id": "eef54335-8da3-4629-acb0-eb2b0d3e1fa7",
   "metadata": {},
   "source": [
    "#### Model 2.: Expanding the model by adding the age squared variable"
   ]
  },
  {
   "cell_type": "code",
   "execution_count": 16,
   "id": "fc9468dd-58d5-40b8-953f-8773e77d67b0",
   "metadata": {
    "tags": []
   },
   "outputs": [
    {
     "data": {
      "text/html": [
       "<table class=\"simpletable\">\n",
       "<caption>OLS Regression Results</caption>\n",
       "<tr>\n",
       "  <th>Dep. Variable:</th>        <td>earnphour</td>    <th>  R-squared:         </th> <td>   0.094</td>\n",
       "</tr>\n",
       "<tr>\n",
       "  <th>Model:</th>                   <td>OLS</td>       <th>  Adj. R-squared:    </th> <td>   0.092</td>\n",
       "</tr>\n",
       "<tr>\n",
       "  <th>Method:</th>             <td>Least Squares</td>  <th>  F-statistic:       </th> <td>   85.17</td>\n",
       "</tr>\n",
       "<tr>\n",
       "  <th>Date:</th>             <td>Sun, 21 Jan 2024</td> <th>  Prob (F-statistic):</th> <td>6.41e-35</td>\n",
       "</tr>\n",
       "<tr>\n",
       "  <th>Time:</th>                 <td>13:08:01</td>     <th>  Log-Likelihood:    </th> <td> -4103.1</td>\n",
       "</tr>\n",
       "<tr>\n",
       "  <th>No. Observations:</th>      <td>  1017</td>      <th>  AIC:               </th> <td>   8212.</td>\n",
       "</tr>\n",
       "<tr>\n",
       "  <th>Df Residuals:</th>          <td>  1014</td>      <th>  BIC:               </th> <td>   8227.</td>\n",
       "</tr>\n",
       "<tr>\n",
       "  <th>Df Model:</th>              <td>     2</td>      <th>                     </th>     <td> </td>   \n",
       "</tr>\n",
       "<tr>\n",
       "  <th>Covariance Type:</th>         <td>HC1</td>       <th>                     </th>     <td> </td>   \n",
       "</tr>\n",
       "</table>\n",
       "<table class=\"simpletable\">\n",
       "<tr>\n",
       "      <td></td>         <th>coef</th>     <th>std err</th>      <th>z</th>      <th>P>|z|</th>  <th>[0.025</th>    <th>0.975]</th>  \n",
       "</tr>\n",
       "<tr>\n",
       "  <th>Intercept</th> <td>  -19.4187</td> <td>    4.854</td> <td>   -4.001</td> <td> 0.000</td> <td>  -28.932</td> <td>   -9.905</td>\n",
       "</tr>\n",
       "<tr>\n",
       "  <th>age</th>       <td>    2.1236</td> <td>    0.256</td> <td>    8.283</td> <td> 0.000</td> <td>    1.621</td> <td>    2.626</td>\n",
       "</tr>\n",
       "<tr>\n",
       "  <th>agesq</th>     <td>   -0.0216</td> <td>    0.003</td> <td>   -6.885</td> <td> 0.000</td> <td>   -0.028</td> <td>   -0.015</td>\n",
       "</tr>\n",
       "</table>\n",
       "<table class=\"simpletable\">\n",
       "<tr>\n",
       "  <th>Omnibus:</th>       <td>134.659</td> <th>  Durbin-Watson:     </th> <td>   1.806</td>\n",
       "</tr>\n",
       "<tr>\n",
       "  <th>Prob(Omnibus):</th> <td> 0.000</td>  <th>  Jarque-Bera (JB):  </th> <td> 192.153</td>\n",
       "</tr>\n",
       "<tr>\n",
       "  <th>Skew:</th>          <td> 0.965</td>  <th>  Prob(JB):          </th> <td>1.88e-42</td>\n",
       "</tr>\n",
       "<tr>\n",
       "  <th>Kurtosis:</th>      <td> 3.902</td>  <th>  Cond. No.          </th> <td>2.86e+04</td>\n",
       "</tr>\n",
       "</table><br/><br/>Notes:<br/>[1] Standard Errors are heteroscedasticity robust (HC1)<br/>[2] The condition number is large, 2.86e+04. This might indicate that there are<br/>strong multicollinearity or other numerical problems."
      ],
      "text/latex": [
       "\\begin{center}\n",
       "\\begin{tabular}{lclc}\n",
       "\\toprule\n",
       "\\textbf{Dep. Variable:}    &    earnphour     & \\textbf{  R-squared:         } &     0.094   \\\\\n",
       "\\textbf{Model:}            &       OLS        & \\textbf{  Adj. R-squared:    } &     0.092   \\\\\n",
       "\\textbf{Method:}           &  Least Squares   & \\textbf{  F-statistic:       } &     85.17   \\\\\n",
       "\\textbf{Date:}             & Sun, 21 Jan 2024 & \\textbf{  Prob (F-statistic):} &  6.41e-35   \\\\\n",
       "\\textbf{Time:}             &     13:08:01     & \\textbf{  Log-Likelihood:    } &   -4103.1   \\\\\n",
       "\\textbf{No. Observations:} &        1017      & \\textbf{  AIC:               } &     8212.   \\\\\n",
       "\\textbf{Df Residuals:}     &        1014      & \\textbf{  BIC:               } &     8227.   \\\\\n",
       "\\textbf{Df Model:}         &           2      & \\textbf{                     } &             \\\\\n",
       "\\textbf{Covariance Type:}  &       HC1        & \\textbf{                     } &             \\\\\n",
       "\\bottomrule\n",
       "\\end{tabular}\n",
       "\\begin{tabular}{lcccccc}\n",
       "                   & \\textbf{coef} & \\textbf{std err} & \\textbf{z} & \\textbf{P$> |$z$|$} & \\textbf{[0.025} & \\textbf{0.975]}  \\\\\n",
       "\\midrule\n",
       "\\textbf{Intercept} &     -19.4187  &        4.854     &    -4.001  &         0.000        &      -28.932    &       -9.905     \\\\\n",
       "\\textbf{age}       &       2.1236  &        0.256     &     8.283  &         0.000        &        1.621    &        2.626     \\\\\n",
       "\\textbf{agesq}     &      -0.0216  &        0.003     &    -6.885  &         0.000        &       -0.028    &       -0.015     \\\\\n",
       "\\bottomrule\n",
       "\\end{tabular}\n",
       "\\begin{tabular}{lclc}\n",
       "\\textbf{Omnibus:}       & 134.659 & \\textbf{  Durbin-Watson:     } &    1.806  \\\\\n",
       "\\textbf{Prob(Omnibus):} &   0.000 & \\textbf{  Jarque-Bera (JB):  } &  192.153  \\\\\n",
       "\\textbf{Skew:}          &   0.965 & \\textbf{  Prob(JB):          } & 1.88e-42  \\\\\n",
       "\\textbf{Kurtosis:}      &   3.902 & \\textbf{  Cond. No.          } & 2.86e+04  \\\\\n",
       "\\bottomrule\n",
       "\\end{tabular}\n",
       "%\\caption{OLS Regression Results}\n",
       "\\end{center}\n",
       "\n",
       "Notes: \\newline\n",
       " [1] Standard Errors are heteroscedasticity robust (HC1) \\newline\n",
       " [2] The condition number is large, 2.86e+04. This might indicate that there are \\newline\n",
       " strong multicollinearity or other numerical problems."
      ],
      "text/plain": [
       "<class 'statsmodels.iolib.summary.Summary'>\n",
       "\"\"\"\n",
       "                            OLS Regression Results                            \n",
       "==============================================================================\n",
       "Dep. Variable:              earnphour   R-squared:                       0.094\n",
       "Model:                            OLS   Adj. R-squared:                  0.092\n",
       "Method:                 Least Squares   F-statistic:                     85.17\n",
       "Date:                Sun, 21 Jan 2024   Prob (F-statistic):           6.41e-35\n",
       "Time:                        13:08:01   Log-Likelihood:                -4103.1\n",
       "No. Observations:                1017   AIC:                             8212.\n",
       "Df Residuals:                    1014   BIC:                             8227.\n",
       "Df Model:                           2                                         \n",
       "Covariance Type:                  HC1                                         \n",
       "==============================================================================\n",
       "                 coef    std err          z      P>|z|      [0.025      0.975]\n",
       "------------------------------------------------------------------------------\n",
       "Intercept    -19.4187      4.854     -4.001      0.000     -28.932      -9.905\n",
       "age            2.1236      0.256      8.283      0.000       1.621       2.626\n",
       "agesq         -0.0216      0.003     -6.885      0.000      -0.028      -0.015\n",
       "==============================================================================\n",
       "Omnibus:                      134.659   Durbin-Watson:                   1.806\n",
       "Prob(Omnibus):                  0.000   Jarque-Bera (JB):              192.153\n",
       "Skew:                           0.965   Prob(JB):                     1.88e-42\n",
       "Kurtosis:                       3.902   Cond. No.                     2.86e+04\n",
       "==============================================================================\n",
       "\n",
       "Notes:\n",
       "[1] Standard Errors are heteroscedasticity robust (HC1)\n",
       "[2] The condition number is large, 2.86e+04. This might indicate that there are\n",
       "strong multicollinearity or other numerical problems.\n",
       "\"\"\""
      ]
     },
     "execution_count": 16,
     "metadata": {},
     "output_type": "execute_result"
    }
   ],
   "source": [
    "# Creating regression for Model 2\n",
    "reg2 = smf.ols(formula=\"earnphour~age + agesq\", data=data).fit(cov_type=\"HC1\")\n",
    "reg2.summary()"
   ]
  },
  {
   "cell_type": "code",
   "execution_count": 74,
   "id": "e5c8af31-69b4-46bc-9ca5-a2079dfcac98",
   "metadata": {
    "tags": []
   },
   "outputs": [
    {
     "data": {
      "text/html": [
       "<table style=\"text-align:center\"><tr><td colspan=\"3\" style=\"border-bottom: 1px solid black\"></td></tr>\n",
       "<tr><td style=\"text-align:left\"></td><td colspan=\"2\"><em>Dependent variable: earnphour</em></td></tr><tr><td style=\"text-align:left\"></td><tr><td style=\"text-align:left\"></td><td>(1)</td><td>(2)</td></tr>\n",
       "<tr><td colspan=\"3\" style=\"border-bottom: 1px solid black\"></td></tr>\n",
       "\n",
       "<tr><td style=\"text-align:left\">age</td><td>0.299<sup>***</sup></td><td>2.124<sup>***</sup></td></tr>\n",
       "<tr><td style=\"text-align:left\"></td><td>(0.037)</td><td>(0.256)</td></tr>\n",
       "<tr><td style=\"text-align:left\">agesq</td><td></td><td>-0.022<sup>***</sup></td></tr>\n",
       "<tr><td style=\"text-align:left\"></td><td></td><td>(0.003)</td></tr>\n",
       "<tr><td style=\"text-align:left\">Constant</td><td>16.251<sup>***</sup></td><td>-19.419<sup>***</sup></td></tr>\n",
       "<tr><td style=\"text-align:left\"></td><td>(1.508)</td><td>(4.854)</td></tr>\n",
       "\n",
       "<td colspan=\"3\" style=\"border-bottom: 1px solid black\"></td></tr>\n",
       "<tr><td style=\"text-align: left\">Observations</td><td>1017</td><td>1017</td></tr><tr><td style=\"text-align: left\">R<sup>2</sup></td><td>0.056</td><td>0.094</td></tr><tr><td style=\"text-align: left\">Adjusted R<sup>2</sup></td><td>0.055</td><td>0.092</td></tr><tr><td style=\"text-align: left\">Residual Std. Error</td><td>13.969 (df=1015)</td><td>13.696 (df=1014)</td></tr><tr><td style=\"text-align: left\">F Statistic</td><td>65.407<sup>***</sup> (df=1; 1015)</td><td>85.175<sup>***</sup> (df=2; 1014)</td></tr>\n",
       "<tr><td colspan=\"3\" style=\"border-bottom: 1px solid black\"></td></tr><tr><td style=\"text-align: left\">Note:</td><td colspan=\"2\" style=\"text-align: right\"><sup>*</sup>p&lt;0.1; <sup>**</sup>p&lt;0.05; <sup>***</sup>p&lt;0.01</td></tr></table>"
      ],
      "text/plain": [
       "<stargazer.stargazer.Stargazer at 0x2cc01ec7f90>"
      ]
     },
     "execution_count": 74,
     "metadata": {},
     "output_type": "execute_result"
    }
   ],
   "source": [
    "# Comparing the first two regressions with stargazer\n",
    "sg = stargazer.Stargazer([reg1, reg2])\n",
    "sg.covariate_order([\"age\", \"agesq\", \"Intercept\"])\n",
    "sg.rename_covariates({\"Intercept\": \"Constant\"})\n",
    "sg"
   ]
  },
  {
   "cell_type": "markdown",
   "id": "4ffc9ace-7cfb-4b74-af7e-db58b422d3ed",
   "metadata": {},
   "source": [
    "#### Model 3. Expanding the model by adding the female dummy variable"
   ]
  },
  {
   "cell_type": "code",
   "execution_count": 18,
   "id": "5d74d45b-3356-4217-ae34-6b76c6a4e713",
   "metadata": {
    "tags": []
   },
   "outputs": [
    {
     "data": {
      "text/html": [
       "<table class=\"simpletable\">\n",
       "<caption>OLS Regression Results</caption>\n",
       "<tr>\n",
       "  <th>Dep. Variable:</th>        <td>earnphour</td>    <th>  R-squared:         </th> <td>   0.116</td>\n",
       "</tr>\n",
       "<tr>\n",
       "  <th>Model:</th>                   <td>OLS</td>       <th>  Adj. R-squared:    </th> <td>   0.113</td>\n",
       "</tr>\n",
       "<tr>\n",
       "  <th>Method:</th>             <td>Least Squares</td>  <th>  F-statistic:       </th> <td>   66.62</td>\n",
       "</tr>\n",
       "<tr>\n",
       "  <th>Date:</th>             <td>Sun, 21 Jan 2024</td> <th>  Prob (F-statistic):</th> <td>2.56e-39</td>\n",
       "</tr>\n",
       "<tr>\n",
       "  <th>Time:</th>                 <td>13:08:01</td>     <th>  Log-Likelihood:    </th> <td> -4090.5</td>\n",
       "</tr>\n",
       "<tr>\n",
       "  <th>No. Observations:</th>      <td>  1017</td>      <th>  AIC:               </th> <td>   8189.</td>\n",
       "</tr>\n",
       "<tr>\n",
       "  <th>Df Residuals:</th>          <td>  1013</td>      <th>  BIC:               </th> <td>   8209.</td>\n",
       "</tr>\n",
       "<tr>\n",
       "  <th>Df Model:</th>              <td>     3</td>      <th>                     </th>     <td> </td>   \n",
       "</tr>\n",
       "<tr>\n",
       "  <th>Covariance Type:</th>         <td>HC1</td>       <th>                     </th>     <td> </td>   \n",
       "</tr>\n",
       "</table>\n",
       "<table class=\"simpletable\">\n",
       "<tr>\n",
       "         <td></td>           <th>coef</th>     <th>std err</th>      <th>z</th>      <th>P>|z|</th>  <th>[0.025</th>    <th>0.975]</th>  \n",
       "</tr>\n",
       "<tr>\n",
       "  <th>Intercept</th>      <td>  -16.6569</td> <td>    4.946</td> <td>   -3.368</td> <td> 0.001</td> <td>  -26.351</td> <td>   -6.963</td>\n",
       "</tr>\n",
       "<tr>\n",
       "  <th>female[T.True]</th> <td>   -4.9197</td> <td>    1.022</td> <td>   -4.813</td> <td> 0.000</td> <td>   -6.923</td> <td>   -2.916</td>\n",
       "</tr>\n",
       "<tr>\n",
       "  <th>age</th>            <td>    2.1718</td> <td>    0.256</td> <td>    8.472</td> <td> 0.000</td> <td>    1.669</td> <td>    2.674</td>\n",
       "</tr>\n",
       "<tr>\n",
       "  <th>agesq</th>          <td>   -0.0222</td> <td>    0.003</td> <td>   -7.093</td> <td> 0.000</td> <td>   -0.028</td> <td>   -0.016</td>\n",
       "</tr>\n",
       "</table>\n",
       "<table class=\"simpletable\">\n",
       "<tr>\n",
       "  <th>Omnibus:</th>       <td>135.999</td> <th>  Durbin-Watson:     </th> <td>   1.805</td>\n",
       "</tr>\n",
       "<tr>\n",
       "  <th>Prob(Omnibus):</th> <td> 0.000</td>  <th>  Jarque-Bera (JB):  </th> <td> 197.864</td>\n",
       "</tr>\n",
       "<tr>\n",
       "  <th>Skew:</th>          <td> 0.954</td>  <th>  Prob(JB):          </th> <td>1.08e-43</td>\n",
       "</tr>\n",
       "<tr>\n",
       "  <th>Kurtosis:</th>      <td> 4.014</td>  <th>  Cond. No.          </th> <td>2.88e+04</td>\n",
       "</tr>\n",
       "</table><br/><br/>Notes:<br/>[1] Standard Errors are heteroscedasticity robust (HC1)<br/>[2] The condition number is large, 2.88e+04. This might indicate that there are<br/>strong multicollinearity or other numerical problems."
      ],
      "text/latex": [
       "\\begin{center}\n",
       "\\begin{tabular}{lclc}\n",
       "\\toprule\n",
       "\\textbf{Dep. Variable:}    &    earnphour     & \\textbf{  R-squared:         } &     0.116   \\\\\n",
       "\\textbf{Model:}            &       OLS        & \\textbf{  Adj. R-squared:    } &     0.113   \\\\\n",
       "\\textbf{Method:}           &  Least Squares   & \\textbf{  F-statistic:       } &     66.62   \\\\\n",
       "\\textbf{Date:}             & Sun, 21 Jan 2024 & \\textbf{  Prob (F-statistic):} &  2.56e-39   \\\\\n",
       "\\textbf{Time:}             &     13:08:01     & \\textbf{  Log-Likelihood:    } &   -4090.5   \\\\\n",
       "\\textbf{No. Observations:} &        1017      & \\textbf{  AIC:               } &     8189.   \\\\\n",
       "\\textbf{Df Residuals:}     &        1013      & \\textbf{  BIC:               } &     8209.   \\\\\n",
       "\\textbf{Df Model:}         &           3      & \\textbf{                     } &             \\\\\n",
       "\\textbf{Covariance Type:}  &       HC1        & \\textbf{                     } &             \\\\\n",
       "\\bottomrule\n",
       "\\end{tabular}\n",
       "\\begin{tabular}{lcccccc}\n",
       "                        & \\textbf{coef} & \\textbf{std err} & \\textbf{z} & \\textbf{P$> |$z$|$} & \\textbf{[0.025} & \\textbf{0.975]}  \\\\\n",
       "\\midrule\n",
       "\\textbf{Intercept}      &     -16.6569  &        4.946     &    -3.368  &         0.001        &      -26.351    &       -6.963     \\\\\n",
       "\\textbf{female[T.True]} &      -4.9197  &        1.022     &    -4.813  &         0.000        &       -6.923    &       -2.916     \\\\\n",
       "\\textbf{age}            &       2.1718  &        0.256     &     8.472  &         0.000        &        1.669    &        2.674     \\\\\n",
       "\\textbf{agesq}          &      -0.0222  &        0.003     &    -7.093  &         0.000        &       -0.028    &       -0.016     \\\\\n",
       "\\bottomrule\n",
       "\\end{tabular}\n",
       "\\begin{tabular}{lclc}\n",
       "\\textbf{Omnibus:}       & 135.999 & \\textbf{  Durbin-Watson:     } &    1.805  \\\\\n",
       "\\textbf{Prob(Omnibus):} &   0.000 & \\textbf{  Jarque-Bera (JB):  } &  197.864  \\\\\n",
       "\\textbf{Skew:}          &   0.954 & \\textbf{  Prob(JB):          } & 1.08e-43  \\\\\n",
       "\\textbf{Kurtosis:}      &   4.014 & \\textbf{  Cond. No.          } & 2.88e+04  \\\\\n",
       "\\bottomrule\n",
       "\\end{tabular}\n",
       "%\\caption{OLS Regression Results}\n",
       "\\end{center}\n",
       "\n",
       "Notes: \\newline\n",
       " [1] Standard Errors are heteroscedasticity robust (HC1) \\newline\n",
       " [2] The condition number is large, 2.88e+04. This might indicate that there are \\newline\n",
       " strong multicollinearity or other numerical problems."
      ],
      "text/plain": [
       "<class 'statsmodels.iolib.summary.Summary'>\n",
       "\"\"\"\n",
       "                            OLS Regression Results                            \n",
       "==============================================================================\n",
       "Dep. Variable:              earnphour   R-squared:                       0.116\n",
       "Model:                            OLS   Adj. R-squared:                  0.113\n",
       "Method:                 Least Squares   F-statistic:                     66.62\n",
       "Date:                Sun, 21 Jan 2024   Prob (F-statistic):           2.56e-39\n",
       "Time:                        13:08:01   Log-Likelihood:                -4090.5\n",
       "No. Observations:                1017   AIC:                             8189.\n",
       "Df Residuals:                    1013   BIC:                             8209.\n",
       "Df Model:                           3                                         \n",
       "Covariance Type:                  HC1                                         \n",
       "==================================================================================\n",
       "                     coef    std err          z      P>|z|      [0.025      0.975]\n",
       "----------------------------------------------------------------------------------\n",
       "Intercept        -16.6569      4.946     -3.368      0.001     -26.351      -6.963\n",
       "female[T.True]    -4.9197      1.022     -4.813      0.000      -6.923      -2.916\n",
       "age                2.1718      0.256      8.472      0.000       1.669       2.674\n",
       "agesq             -0.0222      0.003     -7.093      0.000      -0.028      -0.016\n",
       "==============================================================================\n",
       "Omnibus:                      135.999   Durbin-Watson:                   1.805\n",
       "Prob(Omnibus):                  0.000   Jarque-Bera (JB):              197.864\n",
       "Skew:                           0.954   Prob(JB):                     1.08e-43\n",
       "Kurtosis:                       4.014   Cond. No.                     2.88e+04\n",
       "==============================================================================\n",
       "\n",
       "Notes:\n",
       "[1] Standard Errors are heteroscedasticity robust (HC1)\n",
       "[2] The condition number is large, 2.88e+04. This might indicate that there are\n",
       "strong multicollinearity or other numerical problems.\n",
       "\"\"\""
      ]
     },
     "execution_count": 18,
     "metadata": {},
     "output_type": "execute_result"
    }
   ],
   "source": [
    "# Creating the regression of Model 3\n",
    "reg3 = smf.ols(formula=\"earnphour~age + agesq + female\", data=data).fit(cov_type=\"HC1\")\n",
    "reg3.summary()"
   ]
  },
  {
   "cell_type": "markdown",
   "id": "43d03a02-c55c-455b-98f1-d5a19aa96ddb",
   "metadata": {},
   "source": [
    "#### Model 4: Expanding the last model by adding the high school education, higher education and children dummy variables"
   ]
  },
  {
   "cell_type": "code",
   "execution_count": 19,
   "id": "97b3ad21-9589-46bc-bfae-4736774c868c",
   "metadata": {
    "tags": []
   },
   "outputs": [
    {
     "data": {
      "text/html": [
       "<table class=\"simpletable\">\n",
       "<caption>OLS Regression Results</caption>\n",
       "<tr>\n",
       "  <th>Dep. Variable:</th>        <td>earnphour</td>    <th>  R-squared:         </th> <td>   0.142</td>\n",
       "</tr>\n",
       "<tr>\n",
       "  <th>Model:</th>                   <td>OLS</td>       <th>  Adj. R-squared:    </th> <td>   0.137</td>\n",
       "</tr>\n",
       "<tr>\n",
       "  <th>Method:</th>             <td>Least Squares</td>  <th>  F-statistic:       </th> <td>   35.30</td>\n",
       "</tr>\n",
       "<tr>\n",
       "  <th>Date:</th>             <td>Sun, 21 Jan 2024</td> <th>  Prob (F-statistic):</th> <td>6.96e-39</td>\n",
       "</tr>\n",
       "<tr>\n",
       "  <th>Time:</th>                 <td>13:08:01</td>     <th>  Log-Likelihood:    </th> <td> -4075.3</td>\n",
       "</tr>\n",
       "<tr>\n",
       "  <th>No. Observations:</th>      <td>  1017</td>      <th>  AIC:               </th> <td>   8165.</td>\n",
       "</tr>\n",
       "<tr>\n",
       "  <th>Df Residuals:</th>          <td>  1010</td>      <th>  BIC:               </th> <td>   8199.</td>\n",
       "</tr>\n",
       "<tr>\n",
       "  <th>Df Model:</th>              <td>     6</td>      <th>                     </th>     <td> </td>   \n",
       "</tr>\n",
       "<tr>\n",
       "  <th>Covariance Type:</th>         <td>HC1</td>       <th>                     </th>     <td> </td>   \n",
       "</tr>\n",
       "</table>\n",
       "<table class=\"simpletable\">\n",
       "<tr>\n",
       "         <td></td>           <th>coef</th>     <th>std err</th>      <th>z</th>      <th>P>|z|</th>  <th>[0.025</th>    <th>0.975]</th>  \n",
       "</tr>\n",
       "<tr>\n",
       "  <th>Intercept</th>      <td>  -26.9408</td> <td>    6.082</td> <td>   -4.429</td> <td> 0.000</td> <td>  -38.862</td> <td>  -15.019</td>\n",
       "</tr>\n",
       "<tr>\n",
       "  <th>female[T.True]</th> <td>   -4.7236</td> <td>    1.013</td> <td>   -4.665</td> <td> 0.000</td> <td>   -6.708</td> <td>   -2.739</td>\n",
       "</tr>\n",
       "<tr>\n",
       "  <th>age</th>            <td>    1.9880</td> <td>    0.269</td> <td>    7.398</td> <td> 0.000</td> <td>    1.461</td> <td>    2.515</td>\n",
       "</tr>\n",
       "<tr>\n",
       "  <th>agesq</th>          <td>   -0.0197</td> <td>    0.003</td> <td>   -6.031</td> <td> 0.000</td> <td>   -0.026</td> <td>   -0.013</td>\n",
       "</tr>\n",
       "<tr>\n",
       "  <th>hsedu</th>          <td>    7.8498</td> <td>    2.851</td> <td>    2.754</td> <td> 0.006</td> <td>    2.263</td> <td>   13.437</td>\n",
       "</tr>\n",
       "<tr>\n",
       "  <th>higheredu</th>      <td>   13.4779</td> <td>    2.691</td> <td>    5.008</td> <td> 0.000</td> <td>    8.203</td> <td>   18.753</td>\n",
       "</tr>\n",
       "<tr>\n",
       "  <th>children</th>       <td>    1.6197</td> <td>    1.024</td> <td>    1.582</td> <td> 0.114</td> <td>   -0.386</td> <td>    3.626</td>\n",
       "</tr>\n",
       "</table>\n",
       "<table class=\"simpletable\">\n",
       "<tr>\n",
       "  <th>Omnibus:</th>       <td>136.514</td> <th>  Durbin-Watson:     </th> <td>   1.845</td>\n",
       "</tr>\n",
       "<tr>\n",
       "  <th>Prob(Omnibus):</th> <td> 0.000</td>  <th>  Jarque-Bera (JB):  </th> <td> 200.039</td>\n",
       "</tr>\n",
       "<tr>\n",
       "  <th>Skew:</th>          <td> 0.951</td>  <th>  Prob(JB):          </th> <td>3.65e-44</td>\n",
       "</tr>\n",
       "<tr>\n",
       "  <th>Kurtosis:</th>      <td> 4.049</td>  <th>  Cond. No.          </th> <td>4.41e+04</td>\n",
       "</tr>\n",
       "</table><br/><br/>Notes:<br/>[1] Standard Errors are heteroscedasticity robust (HC1)<br/>[2] The condition number is large, 4.41e+04. This might indicate that there are<br/>strong multicollinearity or other numerical problems."
      ],
      "text/latex": [
       "\\begin{center}\n",
       "\\begin{tabular}{lclc}\n",
       "\\toprule\n",
       "\\textbf{Dep. Variable:}    &    earnphour     & \\textbf{  R-squared:         } &     0.142   \\\\\n",
       "\\textbf{Model:}            &       OLS        & \\textbf{  Adj. R-squared:    } &     0.137   \\\\\n",
       "\\textbf{Method:}           &  Least Squares   & \\textbf{  F-statistic:       } &     35.30   \\\\\n",
       "\\textbf{Date:}             & Sun, 21 Jan 2024 & \\textbf{  Prob (F-statistic):} &  6.96e-39   \\\\\n",
       "\\textbf{Time:}             &     13:08:01     & \\textbf{  Log-Likelihood:    } &   -4075.3   \\\\\n",
       "\\textbf{No. Observations:} &        1017      & \\textbf{  AIC:               } &     8165.   \\\\\n",
       "\\textbf{Df Residuals:}     &        1010      & \\textbf{  BIC:               } &     8199.   \\\\\n",
       "\\textbf{Df Model:}         &           6      & \\textbf{                     } &             \\\\\n",
       "\\textbf{Covariance Type:}  &       HC1        & \\textbf{                     } &             \\\\\n",
       "\\bottomrule\n",
       "\\end{tabular}\n",
       "\\begin{tabular}{lcccccc}\n",
       "                        & \\textbf{coef} & \\textbf{std err} & \\textbf{z} & \\textbf{P$> |$z$|$} & \\textbf{[0.025} & \\textbf{0.975]}  \\\\\n",
       "\\midrule\n",
       "\\textbf{Intercept}      &     -26.9408  &        6.082     &    -4.429  &         0.000        &      -38.862    &      -15.019     \\\\\n",
       "\\textbf{female[T.True]} &      -4.7236  &        1.013     &    -4.665  &         0.000        &       -6.708    &       -2.739     \\\\\n",
       "\\textbf{age}            &       1.9880  &        0.269     &     7.398  &         0.000        &        1.461    &        2.515     \\\\\n",
       "\\textbf{agesq}          &      -0.0197  &        0.003     &    -6.031  &         0.000        &       -0.026    &       -0.013     \\\\\n",
       "\\textbf{hsedu}          &       7.8498  &        2.851     &     2.754  &         0.006        &        2.263    &       13.437     \\\\\n",
       "\\textbf{higheredu}      &      13.4779  &        2.691     &     5.008  &         0.000        &        8.203    &       18.753     \\\\\n",
       "\\textbf{children}       &       1.6197  &        1.024     &     1.582  &         0.114        &       -0.386    &        3.626     \\\\\n",
       "\\bottomrule\n",
       "\\end{tabular}\n",
       "\\begin{tabular}{lclc}\n",
       "\\textbf{Omnibus:}       & 136.514 & \\textbf{  Durbin-Watson:     } &    1.845  \\\\\n",
       "\\textbf{Prob(Omnibus):} &   0.000 & \\textbf{  Jarque-Bera (JB):  } &  200.039  \\\\\n",
       "\\textbf{Skew:}          &   0.951 & \\textbf{  Prob(JB):          } & 3.65e-44  \\\\\n",
       "\\textbf{Kurtosis:}      &   4.049 & \\textbf{  Cond. No.          } & 4.41e+04  \\\\\n",
       "\\bottomrule\n",
       "\\end{tabular}\n",
       "%\\caption{OLS Regression Results}\n",
       "\\end{center}\n",
       "\n",
       "Notes: \\newline\n",
       " [1] Standard Errors are heteroscedasticity robust (HC1) \\newline\n",
       " [2] The condition number is large, 4.41e+04. This might indicate that there are \\newline\n",
       " strong multicollinearity or other numerical problems."
      ],
      "text/plain": [
       "<class 'statsmodels.iolib.summary.Summary'>\n",
       "\"\"\"\n",
       "                            OLS Regression Results                            \n",
       "==============================================================================\n",
       "Dep. Variable:              earnphour   R-squared:                       0.142\n",
       "Model:                            OLS   Adj. R-squared:                  0.137\n",
       "Method:                 Least Squares   F-statistic:                     35.30\n",
       "Date:                Sun, 21 Jan 2024   Prob (F-statistic):           6.96e-39\n",
       "Time:                        13:08:01   Log-Likelihood:                -4075.3\n",
       "No. Observations:                1017   AIC:                             8165.\n",
       "Df Residuals:                    1010   BIC:                             8199.\n",
       "Df Model:                           6                                         \n",
       "Covariance Type:                  HC1                                         \n",
       "==================================================================================\n",
       "                     coef    std err          z      P>|z|      [0.025      0.975]\n",
       "----------------------------------------------------------------------------------\n",
       "Intercept        -26.9408      6.082     -4.429      0.000     -38.862     -15.019\n",
       "female[T.True]    -4.7236      1.013     -4.665      0.000      -6.708      -2.739\n",
       "age                1.9880      0.269      7.398      0.000       1.461       2.515\n",
       "agesq             -0.0197      0.003     -6.031      0.000      -0.026      -0.013\n",
       "hsedu              7.8498      2.851      2.754      0.006       2.263      13.437\n",
       "higheredu         13.4779      2.691      5.008      0.000       8.203      18.753\n",
       "children           1.6197      1.024      1.582      0.114      -0.386       3.626\n",
       "==============================================================================\n",
       "Omnibus:                      136.514   Durbin-Watson:                   1.845\n",
       "Prob(Omnibus):                  0.000   Jarque-Bera (JB):              200.039\n",
       "Skew:                           0.951   Prob(JB):                     3.65e-44\n",
       "Kurtosis:                       4.049   Cond. No.                     4.41e+04\n",
       "==============================================================================\n",
       "\n",
       "Notes:\n",
       "[1] Standard Errors are heteroscedasticity robust (HC1)\n",
       "[2] The condition number is large, 4.41e+04. This might indicate that there are\n",
       "strong multicollinearity or other numerical problems.\n",
       "\"\"\""
      ]
     },
     "execution_count": 19,
     "metadata": {},
     "output_type": "execute_result"
    }
   ],
   "source": [
    "# Creating the regression of Model 4\n",
    "reg4 = smf.ols(formula=\"earnphour~age + agesq + female + hsedu + higheredu + children\", data=data).fit(cov_type=\"HC1\")\n",
    "reg4.summary()"
   ]
  },
  {
   "cell_type": "code",
   "execution_count": 20,
   "id": "570edcfe-b46a-4992-8bb0-bc853a9c9722",
   "metadata": {
    "tags": []
   },
   "outputs": [
    {
     "name": "stdout",
     "output_type": "stream",
     "text": [
      "\n",
      "Regression: reg1\n",
      "                            OLS Regression Results                            \n",
      "==============================================================================\n",
      "Dep. Variable:              earnphour   R-squared:                       0.056\n",
      "Model:                            OLS   Adj. R-squared:                  0.055\n",
      "Method:                 Least Squares   F-statistic:                     65.41\n",
      "Date:                Sun, 21 Jan 2024   Prob (F-statistic):           1.73e-15\n",
      "Time:                        13:08:01   Log-Likelihood:                -4123.8\n",
      "No. Observations:                1017   AIC:                             8252.\n",
      "Df Residuals:                    1015   BIC:                             8261.\n",
      "Df Model:                           1                                         \n",
      "Covariance Type:                  HC1                                         \n",
      "==============================================================================\n",
      "                 coef    std err          z      P>|z|      [0.025      0.975]\n",
      "------------------------------------------------------------------------------\n",
      "Intercept     16.2514      1.508     10.777      0.000      13.296      19.207\n",
      "age            0.2989      0.037      8.087      0.000       0.226       0.371\n",
      "==============================================================================\n",
      "Omnibus:                      130.536   Durbin-Watson:                   1.790\n",
      "Prob(Omnibus):                  0.000   Jarque-Bera (JB):              181.444\n",
      "Skew:                           0.970   Prob(JB):                     3.98e-40\n",
      "Kurtosis:                       3.721   Cond. No.                         167.\n",
      "==============================================================================\n",
      "\n",
      "Notes:\n",
      "[1] Standard Errors are heteroscedasticity robust (HC1)\n",
      "\n",
      "Regression: reg2\n",
      "                            OLS Regression Results                            \n",
      "==============================================================================\n",
      "Dep. Variable:              earnphour   R-squared:                       0.094\n",
      "Model:                            OLS   Adj. R-squared:                  0.092\n",
      "Method:                 Least Squares   F-statistic:                     85.17\n",
      "Date:                Sun, 21 Jan 2024   Prob (F-statistic):           6.41e-35\n",
      "Time:                        13:08:01   Log-Likelihood:                -4103.1\n",
      "No. Observations:                1017   AIC:                             8212.\n",
      "Df Residuals:                    1014   BIC:                             8227.\n",
      "Df Model:                           2                                         \n",
      "Covariance Type:                  HC1                                         \n",
      "==============================================================================\n",
      "                 coef    std err          z      P>|z|      [0.025      0.975]\n",
      "------------------------------------------------------------------------------\n",
      "Intercept    -19.4187      4.854     -4.001      0.000     -28.932      -9.905\n",
      "age            2.1236      0.256      8.283      0.000       1.621       2.626\n",
      "agesq         -0.0216      0.003     -6.885      0.000      -0.028      -0.015\n",
      "==============================================================================\n",
      "Omnibus:                      134.659   Durbin-Watson:                   1.806\n",
      "Prob(Omnibus):                  0.000   Jarque-Bera (JB):              192.153\n",
      "Skew:                           0.965   Prob(JB):                     1.88e-42\n",
      "Kurtosis:                       3.902   Cond. No.                     2.86e+04\n",
      "==============================================================================\n",
      "\n",
      "Notes:\n",
      "[1] Standard Errors are heteroscedasticity robust (HC1)\n",
      "[2] The condition number is large, 2.86e+04. This might indicate that there are\n",
      "strong multicollinearity or other numerical problems.\n",
      "\n",
      "Regression: reg3\n",
      "                            OLS Regression Results                            \n",
      "==============================================================================\n",
      "Dep. Variable:              earnphour   R-squared:                       0.116\n",
      "Model:                            OLS   Adj. R-squared:                  0.113\n",
      "Method:                 Least Squares   F-statistic:                     66.62\n",
      "Date:                Sun, 21 Jan 2024   Prob (F-statistic):           2.56e-39\n",
      "Time:                        13:08:01   Log-Likelihood:                -4090.5\n",
      "No. Observations:                1017   AIC:                             8189.\n",
      "Df Residuals:                    1013   BIC:                             8209.\n",
      "Df Model:                           3                                         \n",
      "Covariance Type:                  HC1                                         \n",
      "==================================================================================\n",
      "                     coef    std err          z      P>|z|      [0.025      0.975]\n",
      "----------------------------------------------------------------------------------\n",
      "Intercept        -16.6569      4.946     -3.368      0.001     -26.351      -6.963\n",
      "female[T.True]    -4.9197      1.022     -4.813      0.000      -6.923      -2.916\n",
      "age                2.1718      0.256      8.472      0.000       1.669       2.674\n",
      "agesq             -0.0222      0.003     -7.093      0.000      -0.028      -0.016\n",
      "==============================================================================\n",
      "Omnibus:                      135.999   Durbin-Watson:                   1.805\n",
      "Prob(Omnibus):                  0.000   Jarque-Bera (JB):              197.864\n",
      "Skew:                           0.954   Prob(JB):                     1.08e-43\n",
      "Kurtosis:                       4.014   Cond. No.                     2.88e+04\n",
      "==============================================================================\n",
      "\n",
      "Notes:\n",
      "[1] Standard Errors are heteroscedasticity robust (HC1)\n",
      "[2] The condition number is large, 2.88e+04. This might indicate that there are\n",
      "strong multicollinearity or other numerical problems.\n",
      "\n",
      "Regression: reg4\n",
      "                            OLS Regression Results                            \n",
      "==============================================================================\n",
      "Dep. Variable:              earnphour   R-squared:                       0.142\n",
      "Model:                            OLS   Adj. R-squared:                  0.137\n",
      "Method:                 Least Squares   F-statistic:                     35.30\n",
      "Date:                Sun, 21 Jan 2024   Prob (F-statistic):           6.96e-39\n",
      "Time:                        13:08:02   Log-Likelihood:                -4075.3\n",
      "No. Observations:                1017   AIC:                             8165.\n",
      "Df Residuals:                    1010   BIC:                             8199.\n",
      "Df Model:                           6                                         \n",
      "Covariance Type:                  HC1                                         \n",
      "==================================================================================\n",
      "                     coef    std err          z      P>|z|      [0.025      0.975]\n",
      "----------------------------------------------------------------------------------\n",
      "Intercept        -26.9408      6.082     -4.429      0.000     -38.862     -15.019\n",
      "female[T.True]    -4.7236      1.013     -4.665      0.000      -6.708      -2.739\n",
      "age                1.9880      0.269      7.398      0.000       1.461       2.515\n",
      "agesq             -0.0197      0.003     -6.031      0.000      -0.026      -0.013\n",
      "hsedu              7.8498      2.851      2.754      0.006       2.263      13.437\n",
      "higheredu         13.4779      2.691      5.008      0.000       8.203      18.753\n",
      "children           1.6197      1.024      1.582      0.114      -0.386       3.626\n",
      "==============================================================================\n",
      "Omnibus:                      136.514   Durbin-Watson:                   1.845\n",
      "Prob(Omnibus):                  0.000   Jarque-Bera (JB):              200.039\n",
      "Skew:                           0.951   Prob(JB):                     3.65e-44\n",
      "Kurtosis:                       4.049   Cond. No.                     4.41e+04\n",
      "==============================================================================\n",
      "\n",
      "Notes:\n",
      "[1] Standard Errors are heteroscedasticity robust (HC1)\n",
      "[2] The condition number is large, 4.41e+04. This might indicate that there are\n",
      "strong multicollinearity or other numerical problems.\n"
     ]
    }
   ],
   "source": [
    "# Summarizing the regression results with HC1 robust standard error\n",
    "models = [reg1, reg2, reg3, reg4]\n",
    "robustcov_results=[]\n",
    "\n",
    "for i, model in enumerate(models):\n",
    "    result=model.get_robustcov_results(cov_type='HC1').summary()\n",
    "    robustcov_results.append(result)\n",
    "    print()\n",
    "    print(f'Regression: reg{i+1}')\n",
    "    print(result)"
   ]
  },
  {
   "cell_type": "markdown",
   "id": "1e874d6a-6c69-4dd8-81b1-1cc4d062c889",
   "metadata": {},
   "source": [
    "### BIC evaluation criteria"
   ]
  },
  {
   "cell_type": "code",
   "execution_count": 78,
   "id": "83c429df-cfc8-492d-8cde-181c51460530",
   "metadata": {
    "tags": []
   },
   "outputs": [
    {
     "data": {
      "text/html": [
       "<table style=\"text-align:center\"><tr><td colspan=\"5\" style=\"border-bottom: 1px solid black\"></td></tr>\n",
       "<tr><td style=\"text-align:left\"></td><td colspan=\"4\"><em>Dependent variable: earnphour</em></td></tr><tr><td style=\"text-align:left\"></td><tr><td style=\"text-align:left\"></td><td>(1)</td><td>(2)</td><td>(3)</td><td>(4)</td></tr>\n",
       "<tr><td colspan=\"5\" style=\"border-bottom: 1px solid black\"></td></tr>\n",
       "\n",
       "<tr><td style=\"text-align:left\">age</td><td>0.299<sup>***</sup></td><td>2.124<sup>***</sup></td><td>2.172<sup>***</sup></td><td>1.988<sup>***</sup></td></tr>\n",
       "<tr><td style=\"text-align:left\"></td><td>(0.037)</td><td>(0.256)</td><td>(0.256)</td><td>(0.269)</td></tr>\n",
       "<tr><td style=\"text-align:left\">agesq</td><td></td><td>-0.022<sup>***</sup></td><td>-0.022<sup>***</sup></td><td>-0.020<sup>***</sup></td></tr>\n",
       "<tr><td style=\"text-align:left\"></td><td></td><td>(0.003)</td><td>(0.003)</td><td>(0.003)</td></tr>\n",
       "<tr><td style=\"text-align:left\">female[T.True]</td><td></td><td></td><td>-4.920<sup>***</sup></td><td>-4.724<sup>***</sup></td></tr>\n",
       "<tr><td style=\"text-align:left\"></td><td></td><td></td><td>(1.022)</td><td>(1.013)</td></tr>\n",
       "<tr><td style=\"text-align:left\">hsedu</td><td></td><td></td><td></td><td>7.850<sup>***</sup></td></tr>\n",
       "<tr><td style=\"text-align:left\"></td><td></td><td></td><td></td><td>(2.851)</td></tr>\n",
       "<tr><td style=\"text-align:left\">higheredu</td><td></td><td></td><td></td><td>13.478<sup>***</sup></td></tr>\n",
       "<tr><td style=\"text-align:left\"></td><td></td><td></td><td></td><td>(2.691)</td></tr>\n",
       "<tr><td style=\"text-align:left\">children</td><td></td><td></td><td></td><td>1.620<sup></sup></td></tr>\n",
       "<tr><td style=\"text-align:left\"></td><td></td><td></td><td></td><td>(1.024)</td></tr>\n",
       "<tr><td style=\"text-align:left\">Constant</td><td>16.251<sup>***</sup></td><td>-19.419<sup>***</sup></td><td>-16.657<sup>***</sup></td><td>-26.941<sup>***</sup></td></tr>\n",
       "<tr><td style=\"text-align:left\"></td><td>(1.508)</td><td>(4.854)</td><td>(4.946)</td><td>(6.082)</td></tr>\n",
       "\n",
       "<td colspan=\"5\" style=\"border-bottom: 1px solid black\"></td></tr>\n",
       "<tr><td style=\"text-align: left\">Observations</td><td>1017</td><td>1017</td><td>1017</td><td>1017</td></tr><tr><td style=\"text-align: left\">R<sup>2</sup></td><td>0.056</td><td>0.094</td><td>0.116</td><td>0.142</td></tr><tr><td style=\"text-align: left\">Adjusted R<sup>2</sup></td><td>0.055</td><td>0.092</td><td>0.113</td><td>0.137</td></tr><tr><td style=\"text-align: left\">Residual Std. Error</td><td>13.969 (df=1015)</td><td>13.696 (df=1014)</td><td>13.534 (df=1013)</td><td>13.352 (df=1010)</td></tr><tr><td style=\"text-align: left\">F Statistic</td><td>65.407<sup>***</sup> (df=1; 1015)</td><td>85.175<sup>***</sup> (df=2; 1014)</td><td>66.617<sup>***</sup> (df=3; 1013)</td><td>35.299<sup>***</sup> (df=6; 1010)</td></tr>\n",
       "<tr><td style=\"text-align: left\">BIC</td><td>8261.37</td><td>8227.03</td><td>8208.76</td><td>8199.06</td></tr><tr><td colspan=\"5\" style=\"border-bottom: 1px solid black\"></td></tr><tr><td style=\"text-align: left\">Note:</td><td colspan=\"4\" style=\"text-align: right\"><sup>*</sup>p&lt;0.1; <sup>**</sup>p&lt;0.05; <sup>***</sup>p&lt;0.01</td></tr></table>"
      ],
      "text/plain": [
       "<stargazer.stargazer.Stargazer at 0x2cc04f4ed10>"
      ]
     },
     "execution_count": 78,
     "metadata": {},
     "output_type": "execute_result"
    }
   ],
   "source": [
    "# Comparing the regressions in stargazer and adding the BIC scores for comparison\n",
    "\n",
    "# Calculating the BIC scores\n",
    "bic = [round(x.bic, 2) for x in [reg1,reg2,reg3,reg4]]\n",
    "\n",
    "# Calling stargazer\n",
    "sg = stargazer.Stargazer([reg1,reg2,reg3,reg4])\n",
    "sg.covariate_order([\"age\", \"agesq\", \"female[T.True]\", \"hsedu\", \"higheredu\", \"children\", \"Intercept\"])\n",
    "sg.rename_covariates({\"Intercept\": \"Constant\"})\n",
    "\n",
    "# Adding the BIC scores as a separate line\n",
    "sg.add_line('BIC', bic, location=stargazer.LineLocation.FOOTER_BOTTOM)\n",
    "sg"
   ]
  },
  {
   "cell_type": "code",
   "execution_count": 22,
   "id": "669822ca-ba7f-428a-90be-20575500fc11",
   "metadata": {
    "tags": []
   },
   "outputs": [
    {
     "data": {
      "text/plain": [
       "8261.36659625481"
      ]
     },
     "execution_count": 22,
     "metadata": {},
     "output_type": "execute_result"
    }
   ],
   "source": [
    "# Checking the BIC of regression 1 (Model 1)\n",
    "reg1.bic"
   ]
  },
  {
   "cell_type": "code",
   "execution_count": 23,
   "id": "d1845ed3-b003-4929-8617-82bac05a0f94",
   "metadata": {
    "tags": []
   },
   "outputs": [
    {
     "data": {
      "text/plain": [
       "8227.030747662391"
      ]
     },
     "execution_count": 23,
     "metadata": {},
     "output_type": "execute_result"
    }
   ],
   "source": [
    "# Checking the BIC of regression 2 (Model 2)\n",
    "reg2.bic"
   ]
  },
  {
   "cell_type": "code",
   "execution_count": 24,
   "id": "11e30407-8707-4dcd-ac85-821430880f5f",
   "metadata": {
    "tags": []
   },
   "outputs": [
    {
     "data": {
      "text/plain": [
       "8208.75877906075"
      ]
     },
     "execution_count": 24,
     "metadata": {},
     "output_type": "execute_result"
    }
   ],
   "source": [
    "# Checking the BIC of regression 3 (Model 3)\n",
    "reg3.bic"
   ]
  },
  {
   "cell_type": "code",
   "execution_count": 25,
   "id": "a92f491e-d880-44ad-81b2-71bdc35bf96c",
   "metadata": {
    "tags": []
   },
   "outputs": [
    {
     "data": {
      "text/plain": [
       "8199.06489734849"
      ]
     },
     "execution_count": 25,
     "metadata": {},
     "output_type": "execute_result"
    }
   ],
   "source": [
    "# Checking the BIC of regression 4 (Model 4)\n",
    "reg4.bic"
   ]
  },
  {
   "cell_type": "code",
   "execution_count": 79,
   "id": "cfc597f6-3d85-4002-885f-1fb97dee0340",
   "metadata": {
    "tags": []
   },
   "outputs": [
    {
     "data": {
      "image/png": "[encoded data removed]",
      "text/plain": [
       "<Figure size 600x400 with 1 Axes>"
      ]
     },
     "metadata": {
      "image/png": {
       "height": 400,
       "width": 600
      }
     },
     "output_type": "display_data"
    }
   ],
   "source": [
    "# Plotting a bar chart to visualize the differences in BIC scores\n",
    "bic_values = [8261.37, 8227.03, 8208.76, 8199.06]\n",
    "\n",
    "# Model names as labels\n",
    "model_names = ['Model 1', 'Model 2', 'Model 3', 'Model 4']\n",
    "\n",
    "# Customizing the bar chart\n",
    "plt.figure(figsize=(6, 4))\n",
    "plt.bar(model_names, bic_values, color='purple')\n",
    "\n",
    "# Adjusting the y axis to see the slight differences between the scores\n",
    "plt.ylim(8190, 8270)\n",
    "plt.title('BIC Values for Different Regression Models')\n",
    "plt.xlabel('Regression Models')\n",
    "plt.ylabel('BIC')\n",
    "plt.show()"
   ]
  },
  {
   "cell_type": "markdown",
   "id": "2257238a-502b-4db9-90b0-4e4ca14556a5",
   "metadata": {},
   "source": [
    "Indirect evaluation: Model 4 has the lowest BIC score, suggesting the least overfitting and the best fit and penalty."
   ]
  },
  {
   "cell_type": "markdown",
   "id": "91ad0ee5-3119-4869-8869-64800a0eac69",
   "metadata": {},
   "source": [
    "### RMSE in the full sample"
   ]
  },
  {
   "cell_type": "code",
   "execution_count": 26,
   "id": "0d69fb62-9830-47a8-9f34-ce542c32c001",
   "metadata": {
    "tags": []
   },
   "outputs": [
    {
     "data": {
      "text/plain": [
       "13.955701016022353"
      ]
     },
     "execution_count": 26,
     "metadata": {},
     "output_type": "execute_result"
    }
   ],
   "source": [
    "# Getting the root squared mean error (RMSE) of Model 1\n",
    "rmse(reg1.fittedvalues,data.earnphour)"
   ]
  },
  {
   "cell_type": "code",
   "execution_count": 27,
   "id": "ea3419b8-bed7-49d9-a9b1-855bed9fac98",
   "metadata": {
    "tags": []
   },
   "outputs": [
    {
     "data": {
      "text/plain": [
       "13.675456375291205"
      ]
     },
     "execution_count": 27,
     "metadata": {},
     "output_type": "execute_result"
    }
   ],
   "source": [
    "# Getting the root squared mean error (RMSE) of Model 2\n",
    "rmse(reg2.fittedvalues,data.earnphour)"
   ]
  },
  {
   "cell_type": "code",
   "execution_count": 28,
   "id": "49beef3f-6fd3-4439-a4d4-6a7a9d3eab1d",
   "metadata": {
    "tags": []
   },
   "outputs": [
    {
     "data": {
      "text/plain": [
       "13.507093894664019"
      ]
     },
     "execution_count": 28,
     "metadata": {},
     "output_type": "execute_result"
    }
   ],
   "source": [
    "# Getting the root squared mean error (RMSE) of Model 3\n",
    "rmse(reg3.fittedvalues,data.earnphour)"
   ]
  },
  {
   "cell_type": "code",
   "execution_count": 29,
   "id": "1be9df93-ec72-48e6-8cb3-9384a48c4a85",
   "metadata": {
    "tags": []
   },
   "outputs": [
    {
     "data": {
      "text/plain": [
       "13.306276061893485"
      ]
     },
     "execution_count": 29,
     "metadata": {},
     "output_type": "execute_result"
    }
   ],
   "source": [
    "# Getting the root squared mean error (RMSE) of Model 4\n",
    "rmse(reg4.fittedvalues,data.earnphour)"
   ]
  },
  {
   "cell_type": "code",
   "execution_count": 67,
   "id": "343e83b6-38fd-417d-9df7-f0bd55738906",
   "metadata": {
    "tags": []
   },
   "outputs": [
    {
     "data": {
      "image/png": "[encoded data removed]",
      "text/plain": [
       "<Figure size 600x400 with 1 Axes>"
      ]
     },
     "metadata": {
      "image/png": {
       "height": 400,
       "width": 600
      }
     },
     "output_type": "display_data"
    }
   ],
   "source": [
    "# Plotting a bar chart to visualize the differences in RMSE scores\n",
    "rmse_values = [rmse(reg1.fittedvalues, data.earnphour),\n",
    "               rmse(reg2.fittedvalues, data.earnphour),\n",
    "               rmse(reg3.fittedvalues, data.earnphour),\n",
    "               rmse(reg4.fittedvalues, data.earnphour)]\n",
    "\n",
    "# Model names as labels\n",
    "model_names = ['Model 1', 'Model 2', 'Model 3', 'Model 4']\n",
    "\n",
    "# Customizing the bar chart\n",
    "plt.figure(figsize=(6, 4))\n",
    "plt.bar(model_names, rmse_values, color='purple')\n",
    "\n",
    "# Adjusting the y axis to see the slight differences\n",
    "plt.ylim(13, 14)\n",
    "plt.title('RMSE Values for Different Regression Models')\n",
    "plt.xlabel('Regression Models')\n",
    "plt.ylabel('RMSE')\n",
    "plt.show()"
   ]
  },
  {
   "cell_type": "markdown",
   "id": "6c374e5e-8008-482a-aceb-09db9035bc89",
   "metadata": {},
   "source": [
    "It can be concluded that Model 4 has the lowest RMSE for the target observations and can provide the best prediction."
   ]
  },
  {
   "cell_type": "markdown",
   "id": "ef36953d-4cef-47d2-98a6-c9aa014ff1f6",
   "metadata": {},
   "source": [
    "### Cross-validated RMSE"
   ]
  },
  {
   "cell_type": "code",
   "execution_count": 30,
   "id": "e4c236b7-67d8-4c6f-a8a7-c6e33bc43319",
   "metadata": {
    "tags": []
   },
   "outputs": [],
   "source": [
    "# Importing the package for cross-validation\n",
    "from sklearn.model_selection import KFold\n",
    "\n",
    "# Splitting the data into 4 categories, assuming that the data is randomly ordered\n",
    "k = KFold(n_splits=4, shuffle=False, random_state=None)"
   ]
  },
  {
   "cell_type": "code",
   "execution_count": 31,
   "id": "a510c9ec-be6c-47d1-ba1c-758105d165c7",
   "metadata": {
    "tags": []
   },
   "outputs": [],
   "source": [
    "# Defining the cross-validation \n",
    "def cv_reg(formula, data, kfold, robustse=None):\n",
    "    regression_list = []\n",
    "    predicts_on_test = []\n",
    "    rsquared = []\n",
    "    rmse_list = []\n",
    "\n",
    "    # Calculating OLS for each fold\n",
    "\n",
    "    for train_index, test_index in k.split(data):\n",
    "        # print(\"TRAIN:\", train_index, \"TEST:\", test_index)\n",
    "        data_train, data_test = data.iloc[train_index, :], data.iloc[test_index, :]\n",
    "        if robustse is None:\n",
    "            model = smf.ols(formula, data=data_train).fit()\n",
    "        else:\n",
    "            model = smf.ols(formula, data=data_train).fit(cov_type=robustse)\n",
    "        regression_list += [model]\n",
    "        predicts_on_test += [model.predict(data_test)]\n",
    "        rsquared += [model.rsquared]\n",
    "        rmse_list += [rmse(data_train[formula.split(\"~\")[0]], model.predict())]\n",
    "\n",
    "    return {\n",
    "        \"regressions\": regression_list,\n",
    "        \"test_predict\": predicts_on_test,\n",
    "        \"r2\": rsquared,\n",
    "        \"rmse\": rmse_list,\n",
    "    }\n",
    "\n",
    "\n",
    "def summarize_cv(cvlist, stat=\"rmse\"):\n",
    "    result = pd.DataFrame(\n",
    "        {\"Model\" + str(x + 1): cvlist[x][stat] for x in range(len(cv_list))}\n",
    "    )\n",
    "    result[\"Resample\"] = [\"Fold\" + str(x + 1) for x in range(len(cvlist[0][\"rmse\"]))]\n",
    "    result = result.set_index(\"Resample\")\n",
    "    result = pd.concat([result, pd.DataFrame(result.mean(), columns=[\"Average\"]).T])\n",
    "    return result"
   ]
  },
  {
   "cell_type": "code",
   "execution_count": 32,
   "id": "e208009a-ddd4-4e85-961f-faadbe866435",
   "metadata": {
    "tags": []
   },
   "outputs": [],
   "source": [
    "# Performing cross-validated linear regressions without heteroskedastic robust error\n",
    "cv1 = cv_reg(\"earnphour~age\", data, k, \"HC0\")\n",
    "cv2 = cv_reg(\"earnphour~age + agesq\", data, k, \"HC0\")\n",
    "cv3 = cv_reg(\"earnphour~age + agesq + female\", data, k, \"HC0\")\n",
    "cv4 = cv_reg(\"earnphour~age + agesq + female + higheredu\", data, k, \"HC0\")\n",
    "\n",
    "cv_list = [cv1, cv2, cv3, cv4]"
   ]
  },
  {
   "cell_type": "code",
   "execution_count": 33,
   "id": "c4a5a08f-aa32-4231-b9dc-c05e455f6454",
   "metadata": {
    "tags": []
   },
   "outputs": [
    {
     "data": {
      "text/html": [
       "<div>\n",
       "<style scoped>\n",
       "    .dataframe tbody tr th:only-of-type {\n",
       "        vertical-align: middle;\n",
       "    }\n",
       "\n",
       "    .dataframe tbody tr th {\n",
       "        vertical-align: top;\n",
       "    }\n",
       "\n",
       "    .dataframe thead th {\n",
       "        text-align: right;\n",
       "    }\n",
       "</style>\n",
       "<table border=\"1\" class=\"dataframe\">\n",
       "  <thead>\n",
       "    <tr style=\"text-align: right;\">\n",
       "      <th></th>\n",
       "      <th>Model1</th>\n",
       "      <th>Model2</th>\n",
       "      <th>Model3</th>\n",
       "      <th>Model4</th>\n",
       "    </tr>\n",
       "  </thead>\n",
       "  <tbody>\n",
       "    <tr>\n",
       "      <th>Fold1</th>\n",
       "      <td>13.953777</td>\n",
       "      <td>13.741584</td>\n",
       "      <td>13.556274</td>\n",
       "      <td>13.339585</td>\n",
       "    </tr>\n",
       "    <tr>\n",
       "      <th>Fold2</th>\n",
       "      <td>14.024023</td>\n",
       "      <td>13.756001</td>\n",
       "      <td>13.572651</td>\n",
       "      <td>13.442045</td>\n",
       "    </tr>\n",
       "    <tr>\n",
       "      <th>Fold3</th>\n",
       "      <td>14.104523</td>\n",
       "      <td>13.830002</td>\n",
       "      <td>13.650977</td>\n",
       "      <td>13.520041</td>\n",
       "    </tr>\n",
       "    <tr>\n",
       "      <th>Fold4</th>\n",
       "      <td>13.731938</td>\n",
       "      <td>13.352327</td>\n",
       "      <td>13.225256</td>\n",
       "      <td>13.034297</td>\n",
       "    </tr>\n",
       "    <tr>\n",
       "      <th>Average</th>\n",
       "      <td>13.953565</td>\n",
       "      <td>13.669979</td>\n",
       "      <td>13.501289</td>\n",
       "      <td>13.333992</td>\n",
       "    </tr>\n",
       "  </tbody>\n",
       "</table>\n",
       "</div>"
      ],
      "text/plain": [
       "            Model1     Model2     Model3     Model4\n",
       "Fold1    13.953777  13.741584  13.556274  13.339585\n",
       "Fold2    14.024023  13.756001  13.572651  13.442045\n",
       "Fold3    14.104523  13.830002  13.650977  13.520041\n",
       "Fold4    13.731938  13.352327  13.225256  13.034297\n",
       "Average  13.953565  13.669979  13.501289  13.333992"
      ]
     },
     "execution_count": 33,
     "metadata": {},
     "output_type": "execute_result"
    }
   ],
   "source": [
    "# Cross-validation summary table\n",
    "summarize_cv(cv_list)"
   ]
  },
  {
   "cell_type": "code",
   "execution_count": 68,
   "id": "b75c44f9-dbe6-4d5b-a63c-0ebd83e49a2f",
   "metadata": {
    "tags": []
   },
   "outputs": [
    {
     "data": {
      "image/png": "[encoded data removed]",
      "text/plain": [
       "<Figure size 600x400 with 1 Axes>"
      ]
     },
     "metadata": {
      "image/png": {
       "height": 400,
       "width": 600
      }
     },
     "output_type": "display_data"
    }
   ],
   "source": [
    "# Plotting a bar chart to visualize the differences in CV RMSE scores\n",
    "rmse_values = [13.953565, 13.669979, 13.501289, 13.333992]\n",
    "\n",
    "# Model names or labels\n",
    "model_names = ['Model 1', 'Model 2', 'Model 3', 'Model 4']\n",
    "\n",
    "# Customizing the bar chart\n",
    "plt.figure(figsize=(6, 4))\n",
    "plt.bar(model_names, rmse_values, color='purple')\n",
    "\n",
    "# Adjusting the y axis to see the slight differences\n",
    "plt.ylim(13, 14)\n",
    "plt.title('CV RMSE Values for Different Regression Models')\n",
    "plt.xlabel('Regression Models')\n",
    "plt.ylabel('CV RMSE')\n",
    "plt.show()"
   ]
  },
  {
   "cell_type": "markdown",
   "id": "f9bd78f7-a093-44a7-b064-4e1288a53530",
   "metadata": {},
   "source": [
    "According to the cross-validated RMSE models, we can conclude that Model 4 still provides the best fit."
   ]
  },
  {
   "cell_type": "markdown",
   "id": "a8383f20-7a32-48b5-8064-0f528d325e86",
   "metadata": {},
   "source": [
    "### Prediction"
   ]
  },
  {
   "cell_type": "code",
   "execution_count": 34,
   "id": "bc4e29ca-0c53-4f27-a91a-2633697ad53c",
   "metadata": {
    "tags": []
   },
   "outputs": [
    {
     "data": {
      "text/plain": [
       "Unnamed: 0       int64\n",
       "hhid             int64\n",
       "intmonth        object\n",
       "stfips          object\n",
       "weight         float64\n",
       "earnwke        float64\n",
       "uhours           int64\n",
       "grade92          int64\n",
       "race             int64\n",
       "ethnic         float64\n",
       "age              int64\n",
       "sex              int64\n",
       "marital          int64\n",
       "ownchild         int64\n",
       "chldpres         int64\n",
       "prcitshp        object\n",
       "state           object\n",
       "ind02           object\n",
       "occ2012          int64\n",
       "class           object\n",
       "unionmme        object\n",
       "unioncov        object\n",
       "lfsr94          object\n",
       "earnphour      float64\n",
       "lnearnphour    float64\n",
       "female            bool\n",
       "agesq            int64\n",
       "edu              int64\n",
       "children         int32\n",
       "hsedu            int32\n",
       "higheredu        int32\n",
       "dtype: object"
      ]
     },
     "execution_count": 34,
     "metadata": {},
     "output_type": "execute_result"
    }
   ],
   "source": [
    "# Checking the data types of the data to carry out the correct prediction\n",
    "data.dtypes"
   ]
  },
  {
   "cell_type": "code",
   "execution_count": 35,
   "id": "a48d2141-96ca-4a49-a2ba-4a65bd3616ea",
   "metadata": {
    "tags": []
   },
   "outputs": [
    {
     "data": {
      "text/plain": [
       "count    1017.000000\n",
       "mean       28.846571\n",
       "std        14.372097\n",
       "min         2.307600\n",
       "25%        18.511111\n",
       "50%        25.225000\n",
       "75%        36.250000\n",
       "max        85.256333\n",
       "Name: earnphour, dtype: float64"
      ]
     },
     "execution_count": 35,
     "metadata": {},
     "output_type": "execute_result"
    }
   ],
   "source": [
    "data.earnphour.describe()"
   ]
  },
  {
   "cell_type": "code",
   "execution_count": 36,
   "id": "e8006a7e-2678-40cd-b1da-5f884dafcbe6",
   "metadata": {
    "tags": []
   },
   "outputs": [
    {
     "data": {
      "text/html": [
       "<div>\n",
       "<style scoped>\n",
       "    .dataframe tbody tr th:only-of-type {\n",
       "        vertical-align: middle;\n",
       "    }\n",
       "\n",
       "    .dataframe tbody tr th {\n",
       "        vertical-align: top;\n",
       "    }\n",
       "\n",
       "    .dataframe thead th {\n",
       "        text-align: right;\n",
       "    }\n",
       "</style>\n",
       "<table border=\"1\" class=\"dataframe\">\n",
       "  <thead>\n",
       "    <tr style=\"text-align: right;\">\n",
       "      <th></th>\n",
       "      <th>Unnamed: 0</th>\n",
       "      <th>hhid</th>\n",
       "      <th>intmonth</th>\n",
       "      <th>stfips</th>\n",
       "      <th>weight</th>\n",
       "      <th>earnwke</th>\n",
       "      <th>uhours</th>\n",
       "      <th>grade92</th>\n",
       "      <th>race</th>\n",
       "      <th>ethnic</th>\n",
       "      <th>...</th>\n",
       "      <th>unioncov</th>\n",
       "      <th>lfsr94</th>\n",
       "      <th>earnphour</th>\n",
       "      <th>lnearnphour</th>\n",
       "      <th>female</th>\n",
       "      <th>agesq</th>\n",
       "      <th>edu</th>\n",
       "      <th>children</th>\n",
       "      <th>hsedu</th>\n",
       "      <th>higheredu</th>\n",
       "    </tr>\n",
       "  </thead>\n",
       "  <tbody>\n",
       "    <tr>\n",
       "      <th>0</th>\n",
       "      <td>3</td>\n",
       "      <td>2600310997690</td>\n",
       "      <td>January</td>\n",
       "      <td>AL</td>\n",
       "      <td>3151.6801</td>\n",
       "      <td>1692.00</td>\n",
       "      <td>40</td>\n",
       "      <td>43</td>\n",
       "      <td>1</td>\n",
       "      <td>NaN</td>\n",
       "      <td>...</td>\n",
       "      <td>No</td>\n",
       "      <td>Employed-At Work</td>\n",
       "      <td>42.300000</td>\n",
       "      <td>3.744787</td>\n",
       "      <td>1</td>\n",
       "      <td>841</td>\n",
       "      <td>43</td>\n",
       "      <td>0</td>\n",
       "      <td>0</td>\n",
       "      <td>1</td>\n",
       "    </tr>\n",
       "    <tr>\n",
       "      <th>271</th>\n",
       "      <td>598</td>\n",
       "      <td>992279930309004</td>\n",
       "      <td>January</td>\n",
       "      <td>AK</td>\n",
       "      <td>360.3615</td>\n",
       "      <td>923.00</td>\n",
       "      <td>40</td>\n",
       "      <td>43</td>\n",
       "      <td>1</td>\n",
       "      <td>NaN</td>\n",
       "      <td>...</td>\n",
       "      <td>No</td>\n",
       "      <td>Employed-At Work</td>\n",
       "      <td>23.075000</td>\n",
       "      <td>3.138750</td>\n",
       "      <td>1</td>\n",
       "      <td>2500</td>\n",
       "      <td>43</td>\n",
       "      <td>1</td>\n",
       "      <td>0</td>\n",
       "      <td>1</td>\n",
       "    </tr>\n",
       "    <tr>\n",
       "      <th>545</th>\n",
       "      <td>1236</td>\n",
       "      <td>5017808077661</td>\n",
       "      <td>January</td>\n",
       "      <td>CA</td>\n",
       "      <td>3452.5706</td>\n",
       "      <td>1615.38</td>\n",
       "      <td>40</td>\n",
       "      <td>39</td>\n",
       "      <td>1</td>\n",
       "      <td>NaN</td>\n",
       "      <td>...</td>\n",
       "      <td>No</td>\n",
       "      <td>Employed-At Work</td>\n",
       "      <td>40.384500</td>\n",
       "      <td>3.698446</td>\n",
       "      <td>1</td>\n",
       "      <td>2601</td>\n",
       "      <td>39</td>\n",
       "      <td>1</td>\n",
       "      <td>1</td>\n",
       "      <td>0</td>\n",
       "    </tr>\n",
       "    <tr>\n",
       "      <th>601</th>\n",
       "      <td>1351</td>\n",
       "      <td>65520360020508</td>\n",
       "      <td>January</td>\n",
       "      <td>CA</td>\n",
       "      <td>3457.9806</td>\n",
       "      <td>807.69</td>\n",
       "      <td>40</td>\n",
       "      <td>44</td>\n",
       "      <td>1</td>\n",
       "      <td>1.0</td>\n",
       "      <td>...</td>\n",
       "      <td>No</td>\n",
       "      <td>Employed-At Work</td>\n",
       "      <td>20.192250</td>\n",
       "      <td>3.005299</td>\n",
       "      <td>1</td>\n",
       "      <td>784</td>\n",
       "      <td>44</td>\n",
       "      <td>0</td>\n",
       "      <td>0</td>\n",
       "      <td>1</td>\n",
       "    </tr>\n",
       "    <tr>\n",
       "      <th>695</th>\n",
       "      <td>1569</td>\n",
       "      <td>256080630550002</td>\n",
       "      <td>January</td>\n",
       "      <td>CA</td>\n",
       "      <td>2889.1284</td>\n",
       "      <td>807.00</td>\n",
       "      <td>40</td>\n",
       "      <td>44</td>\n",
       "      <td>1</td>\n",
       "      <td>7.0</td>\n",
       "      <td>...</td>\n",
       "      <td>No</td>\n",
       "      <td>Employed-At Work</td>\n",
       "      <td>20.175000</td>\n",
       "      <td>3.004444</td>\n",
       "      <td>1</td>\n",
       "      <td>961</td>\n",
       "      <td>44</td>\n",
       "      <td>0</td>\n",
       "      <td>0</td>\n",
       "      <td>1</td>\n",
       "    </tr>\n",
       "    <tr>\n",
       "      <th>...</th>\n",
       "      <td>...</td>\n",
       "      <td>...</td>\n",
       "      <td>...</td>\n",
       "      <td>...</td>\n",
       "      <td>...</td>\n",
       "      <td>...</td>\n",
       "      <td>...</td>\n",
       "      <td>...</td>\n",
       "      <td>...</td>\n",
       "      <td>...</td>\n",
       "      <td>...</td>\n",
       "      <td>...</td>\n",
       "      <td>...</td>\n",
       "      <td>...</td>\n",
       "      <td>...</td>\n",
       "      <td>...</td>\n",
       "      <td>...</td>\n",
       "      <td>...</td>\n",
       "      <td>...</td>\n",
       "      <td>...</td>\n",
       "      <td>...</td>\n",
       "    </tr>\n",
       "    <tr>\n",
       "      <th>148598</th>\n",
       "      <td>315498</td>\n",
       "      <td>58305630783096</td>\n",
       "      <td>December</td>\n",
       "      <td>WA</td>\n",
       "      <td>3039.5721</td>\n",
       "      <td>600.00</td>\n",
       "      <td>37</td>\n",
       "      <td>39</td>\n",
       "      <td>1</td>\n",
       "      <td>1.0</td>\n",
       "      <td>...</td>\n",
       "      <td>No</td>\n",
       "      <td>Employed-At Work</td>\n",
       "      <td>16.216216</td>\n",
       "      <td>2.786012</td>\n",
       "      <td>1</td>\n",
       "      <td>1089</td>\n",
       "      <td>39</td>\n",
       "      <td>0</td>\n",
       "      <td>1</td>\n",
       "      <td>0</td>\n",
       "    </tr>\n",
       "    <tr>\n",
       "      <th>148774</th>\n",
       "      <td>315915</td>\n",
       "      <td>108415040044617</td>\n",
       "      <td>December</td>\n",
       "      <td>WV</td>\n",
       "      <td>673.5209</td>\n",
       "      <td>668.42</td>\n",
       "      <td>38</td>\n",
       "      <td>43</td>\n",
       "      <td>1</td>\n",
       "      <td>NaN</td>\n",
       "      <td>...</td>\n",
       "      <td>No</td>\n",
       "      <td>Employed-At Work</td>\n",
       "      <td>17.590000</td>\n",
       "      <td>2.867331</td>\n",
       "      <td>1</td>\n",
       "      <td>3025</td>\n",
       "      <td>43</td>\n",
       "      <td>0</td>\n",
       "      <td>0</td>\n",
       "      <td>1</td>\n",
       "    </tr>\n",
       "    <tr>\n",
       "      <th>148827</th>\n",
       "      <td>316049</td>\n",
       "      <td>505181410066</td>\n",
       "      <td>December</td>\n",
       "      <td>WV</td>\n",
       "      <td>539.8396</td>\n",
       "      <td>115.38</td>\n",
       "      <td>50</td>\n",
       "      <td>44</td>\n",
       "      <td>1</td>\n",
       "      <td>NaN</td>\n",
       "      <td>...</td>\n",
       "      <td>No</td>\n",
       "      <td>Employed-Absent</td>\n",
       "      <td>2.307600</td>\n",
       "      <td>0.836208</td>\n",
       "      <td>0</td>\n",
       "      <td>3364</td>\n",
       "      <td>44</td>\n",
       "      <td>0</td>\n",
       "      <td>0</td>\n",
       "      <td>1</td>\n",
       "    </tr>\n",
       "    <tr>\n",
       "      <th>148943</th>\n",
       "      <td>316329</td>\n",
       "      <td>102506390510951</td>\n",
       "      <td>December</td>\n",
       "      <td>WI</td>\n",
       "      <td>3529.8688</td>\n",
       "      <td>692.40</td>\n",
       "      <td>40</td>\n",
       "      <td>43</td>\n",
       "      <td>1</td>\n",
       "      <td>NaN</td>\n",
       "      <td>...</td>\n",
       "      <td>No</td>\n",
       "      <td>Employed-At Work</td>\n",
       "      <td>17.310000</td>\n",
       "      <td>2.851284</td>\n",
       "      <td>1</td>\n",
       "      <td>784</td>\n",
       "      <td>43</td>\n",
       "      <td>0</td>\n",
       "      <td>0</td>\n",
       "      <td>1</td>\n",
       "    </tr>\n",
       "    <tr>\n",
       "      <th>149052</th>\n",
       "      <td>316539</td>\n",
       "      <td>50510014758348</td>\n",
       "      <td>December</td>\n",
       "      <td>WI</td>\n",
       "      <td>2834.1690</td>\n",
       "      <td>1442.00</td>\n",
       "      <td>60</td>\n",
       "      <td>43</td>\n",
       "      <td>2</td>\n",
       "      <td>NaN</td>\n",
       "      <td>...</td>\n",
       "      <td>No</td>\n",
       "      <td>Employed-At Work</td>\n",
       "      <td>24.033333</td>\n",
       "      <td>3.179442</td>\n",
       "      <td>1</td>\n",
       "      <td>2304</td>\n",
       "      <td>43</td>\n",
       "      <td>0</td>\n",
       "      <td>0</td>\n",
       "      <td>1</td>\n",
       "    </tr>\n",
       "  </tbody>\n",
       "</table>\n",
       "<p>1017 rows × 31 columns</p>\n",
       "</div>"
      ],
      "text/plain": [
       "        Unnamed: 0             hhid  intmonth stfips     weight  earnwke  \\\n",
       "0                3    2600310997690   January     AL  3151.6801  1692.00   \n",
       "271            598  992279930309004   January     AK   360.3615   923.00   \n",
       "545           1236    5017808077661   January     CA  3452.5706  1615.38   \n",
       "601           1351   65520360020508   January     CA  3457.9806   807.69   \n",
       "695           1569  256080630550002   January     CA  2889.1284   807.00   \n",
       "...            ...              ...       ...    ...        ...      ...   \n",
       "148598      315498   58305630783096  December     WA  3039.5721   600.00   \n",
       "148774      315915  108415040044617  December     WV   673.5209   668.42   \n",
       "148827      316049     505181410066  December     WV   539.8396   115.38   \n",
       "148943      316329  102506390510951  December     WI  3529.8688   692.40   \n",
       "149052      316539   50510014758348  December     WI  2834.1690  1442.00   \n",
       "\n",
       "        uhours  grade92  race  ethnic  ...  unioncov            lfsr94  \\\n",
       "0           40       43     1     NaN  ...        No  Employed-At Work   \n",
       "271         40       43     1     NaN  ...        No  Employed-At Work   \n",
       "545         40       39     1     NaN  ...        No  Employed-At Work   \n",
       "601         40       44     1     1.0  ...        No  Employed-At Work   \n",
       "695         40       44     1     7.0  ...        No  Employed-At Work   \n",
       "...        ...      ...   ...     ...  ...       ...               ...   \n",
       "148598      37       39     1     1.0  ...        No  Employed-At Work   \n",
       "148774      38       43     1     NaN  ...        No  Employed-At Work   \n",
       "148827      50       44     1     NaN  ...        No   Employed-Absent   \n",
       "148943      40       43     1     NaN  ...        No  Employed-At Work   \n",
       "149052      60       43     2     NaN  ...        No  Employed-At Work   \n",
       "\n",
       "        earnphour  lnearnphour  female agesq edu children  hsedu higheredu  \n",
       "0       42.300000     3.744787       1   841  43        0      0         1  \n",
       "271     23.075000     3.138750       1  2500  43        1      0         1  \n",
       "545     40.384500     3.698446       1  2601  39        1      1         0  \n",
       "601     20.192250     3.005299       1   784  44        0      0         1  \n",
       "695     20.175000     3.004444       1   961  44        0      0         1  \n",
       "...           ...          ...     ...   ...  ..      ...    ...       ...  \n",
       "148598  16.216216     2.786012       1  1089  39        0      1         0  \n",
       "148774  17.590000     2.867331       1  3025  43        0      0         1  \n",
       "148827   2.307600     0.836208       0  3364  44        0      0         1  \n",
       "148943  17.310000     2.851284       1   784  43        0      0         1  \n",
       "149052  24.033333     3.179442       1  2304  43        0      0         1  \n",
       "\n",
       "[1017 rows x 31 columns]"
      ]
     },
     "execution_count": 36,
     "metadata": {},
     "output_type": "execute_result"
    }
   ],
   "source": [
    "# Mapping the female variable from boolean to numeric dtype to carry out the prediction\n",
    "data[\"female\"] = data[\"female\"].astype(int)\n",
    "data"
   ]
  },
  {
   "cell_type": "code",
   "execution_count": 37,
   "id": "98289f97-56c1-46e5-b98e-f3c8a58f5899",
   "metadata": {
    "tags": []
   },
   "outputs": [
    {
     "data": {
      "text/html": [
       "<div>\n",
       "<style scoped>\n",
       "    .dataframe tbody tr th:only-of-type {\n",
       "        vertical-align: middle;\n",
       "    }\n",
       "\n",
       "    .dataframe tbody tr th {\n",
       "        vertical-align: top;\n",
       "    }\n",
       "\n",
       "    .dataframe thead th {\n",
       "        text-align: right;\n",
       "    }\n",
       "</style>\n",
       "<table border=\"1\" class=\"dataframe\">\n",
       "  <thead>\n",
       "    <tr style=\"text-align: right;\">\n",
       "      <th></th>\n",
       "      <th>earnphour</th>\n",
       "      <th>age</th>\n",
       "      <th>agesq</th>\n",
       "      <th>female</th>\n",
       "      <th>hsedu</th>\n",
       "      <th>higheredu</th>\n",
       "      <th>children</th>\n",
       "    </tr>\n",
       "  </thead>\n",
       "  <tbody>\n",
       "    <tr>\n",
       "      <th>0</th>\n",
       "      <td>28</td>\n",
       "      <td>30</td>\n",
       "      <td>900</td>\n",
       "      <td>1</td>\n",
       "      <td>1</td>\n",
       "      <td>1</td>\n",
       "      <td>0</td>\n",
       "    </tr>\n",
       "  </tbody>\n",
       "</table>\n",
       "</div>"
      ],
      "text/plain": [
       "   earnphour  age  agesq  female  hsedu  higheredu  children\n",
       "0         28   30    900       1      1          1         0"
      ]
     },
     "execution_count": 37,
     "metadata": {},
     "output_type": "execute_result"
    }
   ],
   "source": [
    "# Choosing values for our prediction variables\n",
    "new = pd.DataFrame(pd.Series({\n",
    "    \"earnphour\" : 28, \n",
    "    \"age\":30,\n",
    "    \"agesq\":30**2,\n",
    "    \"female\" : 1,\n",
    "    \"hsedu\" : 1,\n",
    "    \"higheredu\" : 1,\n",
    "    \"children\" : 0\n",
    "})).T\n",
    "new"
   ]
  },
  {
   "cell_type": "code",
   "execution_count": 38,
   "id": "f59f388a-32f3-4883-b43b-08b247c9c157",
   "metadata": {
    "tags": []
   },
   "outputs": [],
   "source": [
    "# Turning off scientific notation\n",
    "pd.set_option('display.float_format', lambda x: '%.3f' % x)"
   ]
  },
  {
   "cell_type": "code",
   "execution_count": 39,
   "id": "766194b4-a660-43dc-8b32-463866b8e0f3",
   "metadata": {
    "tags": []
   },
   "outputs": [
    {
     "data": {
      "text/plain": [
       "count   1017.000\n",
       "mean       0.000\n",
       "std       13.963\n",
       "min      -31.278\n",
       "25%       -9.898\n",
       "50%       -3.531\n",
       "75%        7.864\n",
       "max       55.108\n",
       "dtype: float64"
      ]
     },
     "execution_count": 39,
     "metadata": {},
     "output_type": "execute_result"
    }
   ],
   "source": [
    "# Checking the residual values for Model 1\n",
    "reg1.resid.describe()"
   ]
  },
  {
   "cell_type": "code",
   "execution_count": 40,
   "id": "b8b6dd51-2239-4a1d-a4fe-bf79002e47c1",
   "metadata": {
    "tags": []
   },
   "outputs": [
    {
     "data": {
      "text/plain": [
       "count   1017.000\n",
       "mean      -0.000\n",
       "std       13.963\n",
       "min      -55.108\n",
       "25%       -7.864\n",
       "50%        3.531\n",
       "75%        9.898\n",
       "max       31.278\n",
       "dtype: float64"
      ]
     },
     "execution_count": 40,
     "metadata": {},
     "output_type": "execute_result"
    }
   ],
   "source": [
    "# Getting the basic metrics of fitted values\n",
    "(reg1.fittedvalues-data.earnphour).describe()"
   ]
  },
  {
   "cell_type": "code",
   "execution_count": 41,
   "id": "d6916888-f397-4418-ab65-6f82e9c09e33",
   "metadata": {
    "tags": []
   },
   "outputs": [
    {
     "data": {
      "text/html": [
       "<div>\n",
       "<style scoped>\n",
       "    .dataframe tbody tr th:only-of-type {\n",
       "        vertical-align: middle;\n",
       "    }\n",
       "\n",
       "    .dataframe tbody tr th {\n",
       "        vertical-align: top;\n",
       "    }\n",
       "\n",
       "    .dataframe thead th {\n",
       "        text-align: right;\n",
       "    }\n",
       "</style>\n",
       "<table border=\"1\" class=\"dataframe\">\n",
       "  <thead>\n",
       "    <tr style=\"text-align: right;\">\n",
       "      <th></th>\n",
       "      <th>mean</th>\n",
       "      <th>mean_se</th>\n",
       "      <th>mean_ci_lower</th>\n",
       "      <th>mean_ci_upper</th>\n",
       "      <th>obs_ci_lower</th>\n",
       "      <th>obs_ci_upper</th>\n",
       "    </tr>\n",
       "  </thead>\n",
       "  <tbody>\n",
       "    <tr>\n",
       "      <th>0</th>\n",
       "      <td>25.218</td>\n",
       "      <td>0.543</td>\n",
       "      <td>24.154</td>\n",
       "      <td>26.281</td>\n",
       "      <td>-2.183</td>\n",
       "      <td>52.618</td>\n",
       "    </tr>\n",
       "  </tbody>\n",
       "</table>\n",
       "</div>"
      ],
      "text/plain": [
       "    mean  mean_se  mean_ci_lower  mean_ci_upper  obs_ci_lower  obs_ci_upper\n",
       "0 25.218    0.543         24.154         26.281        -2.183        52.618"
      ]
     },
     "execution_count": 41,
     "metadata": {},
     "output_type": "execute_result"
    }
   ],
   "source": [
    "# Getting the predictions using regression 1 and extracting its summary statistics\n",
    "p1=reg1.get_prediction(new).summary_frame()\n",
    "p1"
   ]
  },
  {
   "cell_type": "code",
   "execution_count": 42,
   "id": "f1ae974e-df7a-4884-8808-a569eb83a87b",
   "metadata": {
    "tags": []
   },
   "outputs": [
    {
     "data": {
      "text/plain": [
       "count   1017.000\n",
       "mean       0.000\n",
       "std       13.682\n",
       "min      -28.667\n",
       "25%       -9.601\n",
       "50%       -2.888\n",
       "75%        7.224\n",
       "max       52.879\n",
       "dtype: float64"
      ]
     },
     "execution_count": 42,
     "metadata": {},
     "output_type": "execute_result"
    }
   ],
   "source": [
    "# Checking the residual values for Model 2\n",
    "reg2.resid.describe()"
   ]
  },
  {
   "cell_type": "code",
   "execution_count": 43,
   "id": "3572b6d3-6d49-48a2-8884-23b81532cd15",
   "metadata": {
    "tags": []
   },
   "outputs": [
    {
     "data": {
      "text/plain": [
       "count   1017.000\n",
       "mean      -0.000\n",
       "std       13.682\n",
       "min      -52.879\n",
       "25%       -7.224\n",
       "50%        2.888\n",
       "75%        9.601\n",
       "max       28.667\n",
       "dtype: float64"
      ]
     },
     "execution_count": 43,
     "metadata": {},
     "output_type": "execute_result"
    }
   ],
   "source": [
    "# Getting the basic metrics of fitted values\n",
    "(reg2.fittedvalues-data.earnphour).describe()"
   ]
  },
  {
   "cell_type": "code",
   "execution_count": 44,
   "id": "1cff2c38-cb99-40b9-816a-a13aa084b533",
   "metadata": {
    "tags": []
   },
   "outputs": [
    {
     "data": {
      "text/html": [
       "<div>\n",
       "<style scoped>\n",
       "    .dataframe tbody tr th:only-of-type {\n",
       "        vertical-align: middle;\n",
       "    }\n",
       "\n",
       "    .dataframe tbody tr th {\n",
       "        vertical-align: top;\n",
       "    }\n",
       "\n",
       "    .dataframe thead th {\n",
       "        text-align: right;\n",
       "    }\n",
       "</style>\n",
       "<table border=\"1\" class=\"dataframe\">\n",
       "  <thead>\n",
       "    <tr style=\"text-align: right;\">\n",
       "      <th></th>\n",
       "      <th>mean</th>\n",
       "      <th>mean_se</th>\n",
       "      <th>mean_ci_lower</th>\n",
       "      <th>mean_ci_upper</th>\n",
       "      <th>obs_ci_lower</th>\n",
       "      <th>obs_ci_upper</th>\n",
       "    </tr>\n",
       "  </thead>\n",
       "  <tbody>\n",
       "    <tr>\n",
       "      <th>0</th>\n",
       "      <td>24.819</td>\n",
       "      <td>0.492</td>\n",
       "      <td>23.854</td>\n",
       "      <td>25.784</td>\n",
       "      <td>-2.041</td>\n",
       "      <td>51.680</td>\n",
       "    </tr>\n",
       "  </tbody>\n",
       "</table>\n",
       "</div>"
      ],
      "text/plain": [
       "    mean  mean_se  mean_ci_lower  mean_ci_upper  obs_ci_lower  obs_ci_upper\n",
       "0 24.819    0.492         23.854         25.784        -2.041        51.680"
      ]
     },
     "execution_count": 44,
     "metadata": {},
     "output_type": "execute_result"
    }
   ],
   "source": [
    "# Getting the predictions using regression 2 and extracting its summary statistics\n",
    "p2=reg2.get_prediction(new).summary_frame()\n",
    "p2"
   ]
  },
  {
   "cell_type": "code",
   "execution_count": 45,
   "id": "ebea0bf5-da7f-4893-bcce-d394af974b33",
   "metadata": {
    "tags": []
   },
   "outputs": [
    {
     "data": {
      "text/plain": [
       "count   1017.000\n",
       "mean       0.000\n",
       "std       13.514\n",
       "min      -32.246\n",
       "25%       -9.301\n",
       "50%       -2.634\n",
       "75%        6.436\n",
       "max       54.060\n",
       "dtype: float64"
      ]
     },
     "execution_count": 45,
     "metadata": {},
     "output_type": "execute_result"
    }
   ],
   "source": [
    "# Checking the residual values for Model 3\n",
    "reg3.resid.describe()"
   ]
  },
  {
   "cell_type": "code",
   "execution_count": 46,
   "id": "6adf1d16-c9d5-4986-a2e0-baf74192a61e",
   "metadata": {
    "tags": []
   },
   "outputs": [
    {
     "data": {
      "text/plain": [
       "count   1017.000\n",
       "mean      -0.000\n",
       "std       13.514\n",
       "min      -54.060\n",
       "25%       -6.436\n",
       "50%        2.634\n",
       "75%        9.301\n",
       "max       32.246\n",
       "dtype: float64"
      ]
     },
     "execution_count": 46,
     "metadata": {},
     "output_type": "execute_result"
    }
   ],
   "source": [
    "# Getting the basic metrics of fitted values\n",
    "(reg3.fittedvalues-data.earnphour).describe()"
   ]
  },
  {
   "cell_type": "code",
   "execution_count": 47,
   "id": "60d48ae0-9496-45ea-b89d-f6f0b447067d",
   "metadata": {
    "tags": []
   },
   "outputs": [
    {
     "data": {
      "text/html": [
       "<div>\n",
       "<style scoped>\n",
       "    .dataframe tbody tr th:only-of-type {\n",
       "        vertical-align: middle;\n",
       "    }\n",
       "\n",
       "    .dataframe tbody tr th {\n",
       "        vertical-align: top;\n",
       "    }\n",
       "\n",
       "    .dataframe thead th {\n",
       "        text-align: right;\n",
       "    }\n",
       "</style>\n",
       "<table border=\"1\" class=\"dataframe\">\n",
       "  <thead>\n",
       "    <tr style=\"text-align: right;\">\n",
       "      <th></th>\n",
       "      <th>mean</th>\n",
       "      <th>mean_se</th>\n",
       "      <th>mean_ci_lower</th>\n",
       "      <th>mean_ci_upper</th>\n",
       "      <th>obs_ci_lower</th>\n",
       "      <th>obs_ci_upper</th>\n",
       "    </tr>\n",
       "  </thead>\n",
       "  <tbody>\n",
       "    <tr>\n",
       "      <th>0</th>\n",
       "      <td>23.577</td>\n",
       "      <td>0.533</td>\n",
       "      <td>22.533</td>\n",
       "      <td>24.621</td>\n",
       "      <td>-2.969</td>\n",
       "      <td>50.123</td>\n",
       "    </tr>\n",
       "  </tbody>\n",
       "</table>\n",
       "</div>"
      ],
      "text/plain": [
       "    mean  mean_se  mean_ci_lower  mean_ci_upper  obs_ci_lower  obs_ci_upper\n",
       "0 23.577    0.533         22.533         24.621        -2.969        50.123"
      ]
     },
     "execution_count": 47,
     "metadata": {},
     "output_type": "execute_result"
    }
   ],
   "source": [
    "# Getting the predictions using regression 3 and extracting its summary statistics\n",
    "p3=reg3.get_prediction(new).summary_frame()\n",
    "p3"
   ]
  },
  {
   "cell_type": "code",
   "execution_count": 48,
   "id": "a3e3ecce-8fea-4180-b98f-eae90110edee",
   "metadata": {
    "tags": []
   },
   "outputs": [
    {
     "data": {
      "text/plain": [
       "count   1017.000\n",
       "mean       0.000\n",
       "std       13.313\n",
       "min      -33.276\n",
       "25%       -9.039\n",
       "50%       -2.543\n",
       "75%        6.293\n",
       "max       52.392\n",
       "dtype: float64"
      ]
     },
     "execution_count": 48,
     "metadata": {},
     "output_type": "execute_result"
    }
   ],
   "source": [
    "# Checking the residual values for Model 4\n",
    "reg4.resid.describe()"
   ]
  },
  {
   "cell_type": "code",
   "execution_count": 49,
   "id": "c0e47927-ea0a-438b-ab9b-1882476f54f0",
   "metadata": {
    "tags": []
   },
   "outputs": [
    {
     "data": {
      "text/plain": [
       "count   1017.000\n",
       "mean      -0.000\n",
       "std       13.313\n",
       "min      -52.392\n",
       "25%       -6.293\n",
       "50%        2.543\n",
       "75%        9.039\n",
       "max       33.276\n",
       "dtype: float64"
      ]
     },
     "execution_count": 49,
     "metadata": {},
     "output_type": "execute_result"
    }
   ],
   "source": [
    "# Getting the basic metrics of fitted values\n",
    "(reg4.fittedvalues-data.earnphour).describe()"
   ]
  },
  {
   "cell_type": "code",
   "execution_count": 50,
   "id": "d4713611-1ca5-4d74-bd7f-5414fcca4010",
   "metadata": {
    "tags": []
   },
   "outputs": [
    {
     "data": {
      "text/html": [
       "<div>\n",
       "<style scoped>\n",
       "    .dataframe tbody tr th:only-of-type {\n",
       "        vertical-align: middle;\n",
       "    }\n",
       "\n",
       "    .dataframe tbody tr th {\n",
       "        vertical-align: top;\n",
       "    }\n",
       "\n",
       "    .dataframe thead th {\n",
       "        text-align: right;\n",
       "    }\n",
       "</style>\n",
       "<table border=\"1\" class=\"dataframe\">\n",
       "  <thead>\n",
       "    <tr style=\"text-align: right;\">\n",
       "      <th></th>\n",
       "      <th>mean</th>\n",
       "      <th>mean_se</th>\n",
       "      <th>mean_ci_lower</th>\n",
       "      <th>mean_ci_upper</th>\n",
       "      <th>obs_ci_lower</th>\n",
       "      <th>obs_ci_upper</th>\n",
       "    </tr>\n",
       "  </thead>\n",
       "  <tbody>\n",
       "    <tr>\n",
       "      <th>0</th>\n",
       "      <td>31.577</td>\n",
       "      <td>2.900</td>\n",
       "      <td>25.894</td>\n",
       "      <td>37.261</td>\n",
       "      <td>4.797</td>\n",
       "      <td>58.357</td>\n",
       "    </tr>\n",
       "  </tbody>\n",
       "</table>\n",
       "</div>"
      ],
      "text/plain": [
       "    mean  mean_se  mean_ci_lower  mean_ci_upper  obs_ci_lower  obs_ci_upper\n",
       "0 31.577    2.900         25.894         37.261         4.797        58.357"
      ]
     },
     "execution_count": 50,
     "metadata": {},
     "output_type": "execute_result"
    }
   ],
   "source": [
    "# Getting the predictions using regression 4 and extracting its summary statistics\n",
    "p4=reg4.get_prediction(new).summary_frame()\n",
    "p4"
   ]
  },
  {
   "cell_type": "code",
   "execution_count": 51,
   "id": "42bf578b-806c-4bd7-87f9-2457a0ae66ea",
   "metadata": {
    "tags": []
   },
   "outputs": [
    {
     "data": {
      "text/html": [
       "<div>\n",
       "<style scoped>\n",
       "    .dataframe tbody tr th:only-of-type {\n",
       "        vertical-align: middle;\n",
       "    }\n",
       "\n",
       "    .dataframe tbody tr th {\n",
       "        vertical-align: top;\n",
       "    }\n",
       "\n",
       "    .dataframe thead th {\n",
       "        text-align: right;\n",
       "    }\n",
       "</style>\n",
       "<table border=\"1\" class=\"dataframe\">\n",
       "  <thead>\n",
       "    <tr style=\"text-align: right;\">\n",
       "      <th></th>\n",
       "      <th>Model1</th>\n",
       "      <th>Model2</th>\n",
       "      <th>Model3</th>\n",
       "      <th>Model4</th>\n",
       "    </tr>\n",
       "    <tr>\n",
       "      <th></th>\n",
       "      <th></th>\n",
       "      <th></th>\n",
       "      <th></th>\n",
       "      <th></th>\n",
       "    </tr>\n",
       "  </thead>\n",
       "  <tbody>\n",
       "    <tr>\n",
       "      <th>Predicted</th>\n",
       "      <td>25.218</td>\n",
       "      <td>24.819</td>\n",
       "      <td>23.577</td>\n",
       "      <td>31.577</td>\n",
       "    </tr>\n",
       "    <tr>\n",
       "      <th>PI_low(80%)</th>\n",
       "      <td>7.301</td>\n",
       "      <td>7.256</td>\n",
       "      <td>6.220</td>\n",
       "      <td>14.067</td>\n",
       "    </tr>\n",
       "    <tr>\n",
       "      <th>PI_high(80%)</th>\n",
       "      <td>43.134</td>\n",
       "      <td>42.382</td>\n",
       "      <td>40.935</td>\n",
       "      <td>49.088</td>\n",
       "    </tr>\n",
       "  </tbody>\n",
       "</table>\n",
       "</div>"
      ],
      "text/plain": [
       "              Model1  Model2  Model3  Model4\n",
       "                                            \n",
       "Predicted     25.218  24.819  23.577  31.577\n",
       "PI_low(80%)    7.301   7.256   6.220  14.067\n",
       "PI_high(80%)  43.134  42.382  40.935  49.088"
      ]
     },
     "execution_count": 51,
     "metadata": {},
     "output_type": "execute_result"
    }
   ],
   "source": [
    "# Summary of the predictions with 80% prediction intervals\n",
    "p1=reg1.get_prediction(new).summary_frame(alpha=0.2)\n",
    "p2=reg2.get_prediction(new).summary_frame(alpha=0.2)\n",
    "p3=reg3.get_prediction(new).summary_frame(alpha=0.2)\n",
    "p4=reg4.get_prediction(new).summary_frame(alpha=0.2)\n",
    "\n",
    "pd.DataFrame(\n",
    "    {\n",
    "        \" \": [\"Predicted\", \"PI_low(80%)\", \"PI_high(80%)\"],\n",
    "        \"Model1\": p1[[\"mean\", \"obs_ci_lower\", \"obs_ci_upper\"]].values.tolist()[0],\n",
    "        \"Model2\": p2[[\"mean\", \"obs_ci_lower\", \"obs_ci_upper\"]].values.tolist()[0],\n",
    "        \"Model3\": p3[[\"mean\", \"obs_ci_lower\", \"obs_ci_upper\"]].values.tolist()[0],\n",
    "        \"Model4\": p4[[\"mean\", \"obs_ci_lower\", \"obs_ci_upper\"]].values.tolist()[0]\n",
    "    }\n",
    ").set_index(\" \")"
   ]
  },
  {
   "cell_type": "markdown",
   "id": "0249a077-d1ef-46aa-8662-1c58f132a93b",
   "metadata": {},
   "source": [
    "Based on the 80% confidence interval, it can be concluded that even with the best model selection, Model 4 CI's is extremely wide, suggesting that our target variable's predicted earnings per hour/wage falls between 14 and 49, which is still large."
   ]
  },
  {
   "cell_type": "code",
   "execution_count": 52,
   "id": "bf7f1015-99c4-4fa8-8b14-7646fdbc6fd7",
   "metadata": {
    "tags": []
   },
   "outputs": [
    {
     "data": {
      "text/html": [
       "<div>\n",
       "<style scoped>\n",
       "    .dataframe tbody tr th:only-of-type {\n",
       "        vertical-align: middle;\n",
       "    }\n",
       "\n",
       "    .dataframe tbody tr th {\n",
       "        vertical-align: top;\n",
       "    }\n",
       "\n",
       "    .dataframe thead th {\n",
       "        text-align: right;\n",
       "    }\n",
       "</style>\n",
       "<table border=\"1\" class=\"dataframe\">\n",
       "  <thead>\n",
       "    <tr style=\"text-align: right;\">\n",
       "      <th></th>\n",
       "      <th>Model1</th>\n",
       "      <th>Model2</th>\n",
       "      <th>Model3</th>\n",
       "      <th>Model4</th>\n",
       "    </tr>\n",
       "    <tr>\n",
       "      <th></th>\n",
       "      <th></th>\n",
       "      <th></th>\n",
       "      <th></th>\n",
       "      <th></th>\n",
       "    </tr>\n",
       "  </thead>\n",
       "  <tbody>\n",
       "    <tr>\n",
       "      <th>Predicted</th>\n",
       "      <td>25.218</td>\n",
       "      <td>24.819</td>\n",
       "      <td>23.577</td>\n",
       "      <td>31.577</td>\n",
       "    </tr>\n",
       "    <tr>\n",
       "      <th>PI_low(95%)</th>\n",
       "      <td>7.301</td>\n",
       "      <td>7.256</td>\n",
       "      <td>6.220</td>\n",
       "      <td>14.067</td>\n",
       "    </tr>\n",
       "    <tr>\n",
       "      <th>PI_high(95%)</th>\n",
       "      <td>43.134</td>\n",
       "      <td>42.382</td>\n",
       "      <td>40.935</td>\n",
       "      <td>49.088</td>\n",
       "    </tr>\n",
       "  </tbody>\n",
       "</table>\n",
       "</div>"
      ],
      "text/plain": [
       "              Model1  Model2  Model3  Model4\n",
       "                                            \n",
       "Predicted     25.218  24.819  23.577  31.577\n",
       "PI_low(95%)    7.301   7.256   6.220  14.067\n",
       "PI_high(95%)  43.134  42.382  40.935  49.088"
      ]
     },
     "execution_count": 52,
     "metadata": {},
     "output_type": "execute_result"
    }
   ],
   "source": [
    "# Creating a DataFrame for the predicted values and the 95% prediciton intervals \n",
    "pd.DataFrame(\n",
    "    {\n",
    "        \" \": [\"Predicted\", \"PI_low(95%)\", \"PI_high(95%)\"],\n",
    "        \"Model1\": p1[[\"mean\", \"obs_ci_lower\", \"obs_ci_upper\"]].values.tolist()[0],\n",
    "        \"Model2\": p2[[\"mean\", \"obs_ci_lower\", \"obs_ci_upper\"]].values.tolist()[0],\n",
    "        \"Model3\": p3[[\"mean\", \"obs_ci_lower\", \"obs_ci_upper\"]].values.tolist()[0],\n",
    "        \"Model4\": p4[[\"mean\", \"obs_ci_lower\", \"obs_ci_upper\"]].values.tolist()[0]\n",
    "    }\n",
    ").set_index(\" \")"
   ]
  }
 ],
 "metadata": {
  "kernelspec": {
   "display_name": "Python 3 (ipykernel)",
   "language": "python",
   "name": "python3"
  },
  "language_info": {
   "codemirror_mode": {
    "name": "ipython",
    "version": 3
   },
   "file_extension": ".py",
   "mimetype": "text/x-python",
   "name": "python",
   "nbconvert_exporter": "python",
   "pygments_lexer": "ipython3",
   "version": "3.11.4"
  }
 },
 "nbformat": 4,
 "nbformat_minor": 5
}
